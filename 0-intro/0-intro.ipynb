{
 "cells": [
  {
   "cell_type": "markdown",
   "id": "c4c7c1ae-da9c-408e-a58c-57a3a6d85e23",
   "metadata": {},
   "source": [
    "# Introduction to Jupyter and Python\n",
    "\n",
    "Hello and thank you for joining us for this workshop!\n",
    "\n",
    "In this notebook, we'll cover:\n",
    "- Useful controls for Jupyter\n",
    "- An overview of Python"
   ]
  },
  {
   "cell_type": "markdown",
   "id": "a92f6317-c6f9-4ae9-9c1a-cfc06ff12767",
   "metadata": {},
   "source": [
    "## Jupyter\n",
    "Jupyter Notebooks are a handy format for interleaving markdown text (what you're reading right now) with code. The ability to write plaintext alongside code makes these notebooks useful as a \"lab notebook\": a place to record your thoughts and observations while you analyze data. This is why Jupyter is so popular in data science!\n",
    "\n",
    "Each notebook is composed of individual cells. You can use the up and down arrow keys to navigate between cells. Pressing `enter` while a cell is highlighted allows you to make edits; pressing escape returns to the \"cell explorer\" mode and lets you navigate with the arrow keys again. While using the \"cell explorer\", you can also:\n",
    "- press `a` to insert a cell `a`bove the currently selected\n",
    "- press `b` to insert a cell `b`elow the currently selected\n",
    "- `dd` to delete the current selected cell\n",
    "- `m` to turn the selected cell into a markdown cell / `y` to turn the selected cell into a code cell\n",
    "\n",
    "### Markdown\n",
    "Markdown supports all sorts of handy formatting, like headings, bullet points, and code formatting. You've already seen examples of all three of these! \n",
    "- Headings: add a `#`. Adding more, e.g. `###`\n",
    "- Bullet points: use `-` or `*` for each item in your list\n",
    "- Code: put code between two backticks, like \\` code here `\n"
   ]
  },
  {
   "cell_type": "markdown",
   "id": "490513ba-9958-4abf-9206-14ad9b5246d0",
   "metadata": {},
   "source": [
    "#### Exercise 1: Editing Text\n",
    "First, `delete this line and replace it with your name`.\n",
    "\n",
    "Then, create a new cell below this one and add a limerick, sonnet, or your favorite poem."
   ]
  },
  {
   "cell_type": "markdown",
   "id": "2c5225ac-cb1b-4a6d-9846-dedda7479685",
   "metadata": {},
   "source": [
    "### Code\n",
    "Jupyter supports many programming languages; we'll be using exclusively Python today, but it was designed for `Ju`lia, `Pyt`hon, and `R`.\n",
    "\n",
    "Code cells are formatted differently from markdown cells, but don't worry about this too much for now.\n",
    "\n",
    "You can run a selected code cell by pressing `shift enter`. Try it below!"
   ]
  },
  {
   "cell_type": "code",
   "execution_count": 1,
   "id": "41615ba1-8043-4e09-8c5e-d0868d63b640",
   "metadata": {},
   "outputs": [
    {
     "name": "stdout",
     "output_type": "stream",
     "text": [
      "Hello, world!\n"
     ]
    }
   ],
   "source": [
    "# our first Python code cell\n",
    "print(\"Hello, world!\")"
   ]
  },
  {
   "cell_type": "markdown",
   "id": "56e2c06e-5d80-44f4-8842-6a2434a16c01",
   "metadata": {},
   "source": [
    "You should see the output of the above cell \"printed\" to the interface. Congratulations! You've taken the first step towards becoming a Python programmer. "
   ]
  },
  {
   "cell_type": "markdown",
   "id": "706b5874-1cbe-493c-9171-8be755f50906",
   "metadata": {},
   "source": [
    "## Python\n",
    "There are many, many Python tutorials online, so we are only covering the absolute essentials. If you want to keep learning after today, one suggestion is [Python4Everybody](https://www.py4e.com/).\n",
    "\n",
    "### Data Types\n",
    "Python stores data differently depending on what the data is. The three most common types you'll see are:\n",
    "- Strings\n",
    "- Integers\n",
    "- Floating point numbers AKA \"numbers with a decimal point\"\n",
    "- Booleans: `True` and `False` (we'll talk more about these in a minute)"
   ]
  },
  {
   "cell_type": "code",
   "execution_count": 1,
   "id": "b7f0a863-747c-4210-9b6d-e571ac31836f",
   "metadata": {},
   "outputs": [
    {
     "name": "stdout",
     "output_type": "stream",
     "text": [
      "<class 'str'> <class 'int'> <class 'float'>\n"
     ]
    }
   ],
   "source": [
    "s = \"this is a string\"\n",
    "i = 42\n",
    "f = 6.28318\n",
    "b = True\n",
    "\n",
    "print(type(s), type(i), type(f))"
   ]
  },
  {
   "cell_type": "markdown",
   "id": "33b7d04f-644f-4d85-933b-1b366502b18c",
   "metadata": {},
   "source": [
    "You'll need to know the difference between these types, since many functions will only accept the data type they were built to work with!"
   ]
  },
  {
   "cell_type": "markdown",
   "id": "20862a83-c4c9-4482-8f72-2ce67713d85a",
   "metadata": {},
   "source": [
    "### Lists, Indexing, and Slicing\n",
    "Python also allows you to create a list of object, which need not be the same data type."
   ]
  },
  {
   "cell_type": "code",
   "execution_count": 4,
   "id": "8d085aff-1838-421f-8d89-93a71b161a6d",
   "metadata": {},
   "outputs": [
    {
     "data": {
      "text/plain": [
       "['this is a string', 42, 6.28318]"
      ]
     },
     "execution_count": 4,
     "metadata": {},
     "output_type": "execute_result"
    }
   ],
   "source": [
    "our_list = [s, i, f]\n",
    "our_list"
   ]
  },
  {
   "cell_type": "markdown",
   "id": "9f1763cf-9d51-4f76-9a69-04b10bbe617f",
   "metadata": {},
   "source": [
    "What if we only want to know about the first value in our list? For that, Python uses indexing: each value in the list is assigned a numerical index that we can use to get the value. Let's try to get value `1` from our list."
   ]
  },
  {
   "cell_type": "code",
   "execution_count": 5,
   "id": "0e1e9678-79e1-47c8-8f81-f7e5edb43e2c",
   "metadata": {},
   "outputs": [
    {
     "data": {
      "text/plain": [
       "42"
      ]
     },
     "execution_count": 5,
     "metadata": {},
     "output_type": "execute_result"
    }
   ],
   "source": [
    "our_list[1]"
   ]
  },
  {
   "cell_type": "markdown",
   "id": "02a0959a-05bd-4e6f-9485-9949d61e3596",
   "metadata": {},
   "source": [
    "If you're confused by this output, it's because Python uses something called \"zero-indexing\": the values are counted beginning with zero.\n",
    "\n",
    "One other thing we can do with a list is \"slice\" it: we can say \"I only want the values of this list *after* a particular index\". Let's look at an example:"
   ]
  },
  {
   "cell_type": "code",
   "execution_count": 7,
   "id": "f63e723c-8930-4794-9461-0b4cdedb1e3c",
   "metadata": {},
   "outputs": [
    {
     "data": {
      "text/plain": [
       "[42, 6.28318]"
      ]
     },
     "execution_count": 7,
     "metadata": {},
     "output_type": "execute_result"
    }
   ],
   "source": [
    "# show every value in this with index >= 1\n",
    "our_list[1:]"
   ]
  },
  {
   "cell_type": "markdown",
   "id": "f4418545-f27a-421b-bb44-12baa0d027d2",
   "metadata": {},
   "source": [
    "One caveat here is that this is not a symmetric operation. Watch what happens if we try to get all the values up to index 1:"
   ]
  },
  {
   "cell_type": "code",
   "execution_count": 8,
   "id": "590d24ed-b3e4-40da-89a5-e8207598f6fb",
   "metadata": {},
   "outputs": [
    {
     "data": {
      "text/plain": [
       "['this is a string']"
      ]
     },
     "execution_count": 8,
     "metadata": {},
     "output_type": "execute_result"
    }
   ],
   "source": [
    "our_list[:1]"
   ]
  },
  {
   "cell_type": "markdown",
   "id": "55f7f6d2-3014-473c-bfa0-8822fc83f928",
   "metadata": {},
   "source": [
    "Keep this in mind when trying to do indexing! Python will return results \"up to but not including\" the second value.\n",
    "\n",
    "#### Exercise 2\n",
    "We can slice more than just lists! How can we slice `s`, our string, so that the output is just the word \"string\"?"
   ]
  },
  {
   "cell_type": "code",
   "execution_count": null,
   "id": "0ea10518-e085-444f-b633-a5400b85d914",
   "metadata": {},
   "outputs": [],
   "source": [
    "# your answer here\n"
   ]
  },
  {
   "cell_type": "markdown",
   "id": "35c1188a-f5f3-49a8-b03c-474ef468b20c",
   "metadata": {},
   "source": [
    "### Math Operators\n",
    "The \"basic\" math operators in Python all use familiar characters:\n",
    "\n",
    "- `+` and `-` are adding and subtracting; they work as expected\n",
    "- `*` is multiply and **must** be given explicitly. Python will only understand `3*x+2`, not `3x+2`\n",
    "- `/` is division. Take care to use parenthesis when needed!\n",
    "- `**` is exponentiation. For example, \"two to the power of ten\" is `2**10`\n",
    "- `()` are parenthesis and function as expected\n",
    "\n",
    "Python evaluates our input in PEMDAS order."
   ]
  },
  {
   "cell_type": "code",
   "execution_count": 9,
   "id": "e4a1c3fe-1afa-42fa-a4c6-b026234766eb",
   "metadata": {},
   "outputs": [
    {
     "data": {
      "text/plain": [
       "20.0"
      ]
     },
     "execution_count": 9,
     "metadata": {},
     "output_type": "execute_result"
    }
   ],
   "source": [
    "# example that might benefit from parenthesis\n",
    "14*3**2/7+2"
   ]
  },
  {
   "cell_type": "markdown",
   "id": "317e1d49-eb62-42a4-8b67-0b8eff28642f",
   "metadata": {},
   "source": [
    "### Functions\n",
    "A Python function works in much the same way as a mathematical function. In math, for example, you might have a function `f(x)` such that `f(x) = 3x+2`. Let's look at the Python equivalent:"
   ]
  },
  {
   "cell_type": "code",
   "execution_count": 11,
   "id": "23f0c8ec-453e-493a-9745-9862e6d0b61e",
   "metadata": {},
   "outputs": [],
   "source": [
    "def f0(x):\n",
    "    return 3*x+2"
   ]
  },
  {
   "cell_type": "markdown",
   "id": "e625e322-670d-4632-b5d6-41e2e9f33f34",
   "metadata": {},
   "source": [
    "This is useful to us, since we can now call this function with our desired inputs!"
   ]
  },
  {
   "cell_type": "code",
   "execution_count": 12,
   "id": "8c3dafa7-d80c-4f05-b745-ae80fcf72609",
   "metadata": {},
   "outputs": [
    {
     "data": {
      "text/plain": [
       "(2, 17)"
      ]
     },
     "execution_count": 12,
     "metadata": {},
     "output_type": "execute_result"
    }
   ],
   "source": [
    "# testing inputs for our function\n",
    "f0(0), f0(5)"
   ]
  },
  {
   "cell_type": "markdown",
   "id": "b764c31e-213a-4c13-94c3-2dd86dc60e09",
   "metadata": {},
   "source": [
    "As in math, functions can also be multi-valued:"
   ]
  },
  {
   "cell_type": "code",
   "execution_count": 15,
   "id": "56ef7e00-6846-4559-b6f9-b6ef8a2b8246",
   "metadata": {},
   "outputs": [
    {
     "data": {
      "text/plain": [
       "7"
      ]
     },
     "execution_count": 15,
     "metadata": {},
     "output_type": "execute_result"
    }
   ],
   "source": [
    "def f1(x, y):\n",
    "    return x + y\n",
    "\n",
    "f1(3, 4)"
   ]
  },
  {
   "cell_type": "markdown",
   "id": "6fff6502-eca6-41d3-9cd7-64e2fce9fa4b",
   "metadata": {},
   "source": [
    "### Reading and Writing Files\n",
    "Many Python-based tools have \"helper functions\" to read in files, but the basic structure is the following:"
   ]
  },
  {
   "cell_type": "code",
   "execution_count": 22,
   "id": "b7a8c6ed-455f-4bc0-8561-698a5b780867",
   "metadata": {},
   "outputs": [
    {
     "name": "stdout",
     "output_type": "stream",
     "text": [
      "Hi there! You opened the file :)\n"
     ]
    }
   ],
   "source": [
    "# with/open context to load a filehandler\n",
    "with open(\"intro.txt\", \"r\") as infile:\n",
    "    # read the contents of the file into memory\n",
    "    data = infile.read()\n",
    "\n",
    "print(data)"
   ]
  },
  {
   "cell_type": "markdown",
   "id": "cc6635fe-262e-43fe-b256-c8a452144d84",
   "metadata": {},
   "source": [
    "So far, we've seen \"read\" (`r`) mode. If we want to *modify* the contents of a file, there are two options, with an important distinction:\n",
    "- \"append\" (`a`) mode, which adds to the end of the file\n",
    "- \"write\" (`w`) mode, which DESTRUCTIVELY writes our data to the file. Existing data is erased.\n",
    "\n",
    "#### Exercise 3\n",
    "Try writing out some data to a file. You'll need to change the mode, set by the letters listed above, from read to write. Also, instead of using the `read()` command, you'll need to use the `write()` command.\n",
    "\n",
    "Hint: think of `write()` like a function. What inputs do you need to give it?"
   ]
  },
  {
   "cell_type": "code",
   "execution_count": 23,
   "id": "f9507adf-9d5f-4295-95d6-cd3e991d0d8f",
   "metadata": {},
   "outputs": [],
   "source": [
    "# data to be written\n",
    "data = \"villanova\"\n",
    "\n",
    "# code for new file here\n"
   ]
  },
  {
   "cell_type": "markdown",
   "id": "17d938ca-a611-4a72-a307-fba81f6f3d7d",
   "metadata": {},
   "source": [
    "Want to test if your code is working? You can open the file in the browser at left, but you can also run the code cell below!"
   ]
  },
  {
   "cell_type": "code",
   "execution_count": 25,
   "id": "2135a588-f819-4bec-a100-4575a312f844",
   "metadata": {},
   "outputs": [
    {
     "name": "stdout",
     "output_type": "stream",
     "text": [
      "Yay! Good job.\n"
     ]
    }
   ],
   "source": [
    "# test your code\n",
    "with open(\"test.txt\", \"r\") as infile:\n",
    "    data = infile.read()\n",
    "    if data == \"villanova\":\n",
    "        print(\"Yay! Good job.\")\n",
    "    else:\n",
    "        print(\"Whoops, try again.\")"
   ]
  },
  {
   "cell_type": "markdown",
   "id": "69b22e71-8b33-479e-be69-c9f62044d882",
   "metadata": {},
   "source": [
    "If you see \"Yay! Good job.\", you've completed the exercise. If not, try again!"
   ]
  },
  {
   "cell_type": "markdown",
   "id": "24c63f2c-1ee3-4931-8781-63d943e5745d",
   "metadata": {},
   "source": [
    "### Conditional Statements\n",
    "What's the deal with the `if` and `else` in the code above? In Python, we call these \"conditional statements\" and they're a powerful tool to change the \"flow\" of your code. Each statement is evaluated to either `True` or `False`:"
   ]
  },
  {
   "cell_type": "code",
   "execution_count": 29,
   "id": "502ff805-c8a8-42fa-b063-20dbd8b8b12c",
   "metadata": {},
   "outputs": [
    {
     "data": {
      "text/plain": [
       "True"
      ]
     },
     "execution_count": 29,
     "metadata": {},
     "output_type": "execute_result"
    }
   ],
   "source": [
    "5 > 1"
   ]
  },
  {
   "cell_type": "markdown",
   "id": "5708226c-fc05-4e1c-a781-6b284802c800",
   "metadata": {},
   "source": [
    "Combining this with an `if` allows us to write code that only executes when our conditional is true. Let's write an example for you to test:"
   ]
  },
  {
   "cell_type": "code",
   "execution_count": 28,
   "id": "de2162f6-8087-4318-af1b-3d1b0015d60b",
   "metadata": {},
   "outputs": [
    {
     "name": "stdout",
     "output_type": "stream",
     "text": [
      "yes, it's positive!\n"
     ]
    }
   ],
   "source": [
    "# define a function that uses conditional statements\n",
    "def test_positive(n):\n",
    "    if n > 0:\n",
    "        print(\"yes, it's positive!\")\n",
    "    else:\n",
    "        print(\"not positive!\")\n",
    "\n",
    "test_positive(3)"
   ]
  },
  {
   "cell_type": "markdown",
   "id": "e9bc4d18-7516-41c8-9cb0-7e4848d775ea",
   "metadata": {},
   "source": [
    "#### Exercise 4\n",
    "Now, it's time to write your own function. Can you write a function that returns the input value when the input is less than 10, then doubles the value when it's larger?"
   ]
  },
  {
   "cell_type": "code",
   "execution_count": null,
   "id": "c79e99be-07bd-4ff4-8c35-b8e45ad01576",
   "metadata": {},
   "outputs": [],
   "source": []
  },
  {
   "cell_type": "markdown",
   "id": "c72a634b-3499-49c9-ac86-7d691fa473bf",
   "metadata": {},
   "source": [
    "### Importing Libraries\n",
    "Many, many people use Python. A lot of the code you'd like to use has probably already been written! For example, Python has an entire `math` library full of useful functions."
   ]
  },
  {
   "cell_type": "code",
   "execution_count": 27,
   "id": "5ee842b5-471d-4fc6-99c7-994d69d03b9b",
   "metadata": {},
   "outputs": [
    {
     "data": {
      "text/plain": [
       "2.0"
      ]
     },
     "execution_count": 27,
     "metadata": {},
     "output_type": "execute_result"
    }
   ],
   "source": [
    "import math\n",
    "math.log10(100)"
   ]
  },
  {
   "cell_type": "markdown",
   "id": "723e9080-b724-4473-806d-288aad19c3bf",
   "metadata": {},
   "source": [
    "You'll need this later for lightkurve and other libraries, so don't forget about it!"
   ]
  },
  {
   "cell_type": "markdown",
   "id": "3cb73817-e956-4807-ace1-2a11be5131af",
   "metadata": {},
   "source": [
    "## Conclusions\n",
    "We've only just scratched the surface of Python, but we hope this has been a helpful introduction!\n"
   ]
  },
  {
   "cell_type": "markdown",
   "id": "fa62d767-79cb-4fb9-885a-283de042afc0",
   "metadata": {},
   "source": [
    "## About this Notebook\n",
    "**Author:** Thomas Dutkiewicz <br>\n",
    "\n",
    "***\n",
    "[Top of Page](#top)\n",
    "<img style=\"float: right;\" src=\"https://raw.githubusercontent.com/spacetelescope/style-guides/master/guides/images/stsci-logo.png\" alt=\"Space Telescope Logo\" width=\"200px\"/> "
   ]
  }
 ],
 "metadata": {
  "kernelspec": {
   "display_name": "Python 3 (ipykernel)",
   "language": "python",
   "name": "python3"
  },
  "language_info": {
   "codemirror_mode": {
    "name": "ipython",
    "version": 3
   },
   "file_extension": ".py",
   "mimetype": "text/x-python",
   "name": "python",
   "nbconvert_exporter": "python",
   "pygments_lexer": "ipython3",
   "version": "3.13.5"
  }
 },
 "nbformat": 4,
 "nbformat_minor": 5
}
