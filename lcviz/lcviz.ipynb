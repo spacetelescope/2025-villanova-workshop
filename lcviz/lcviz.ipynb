{
 "cells": [
  {
   "attachments": {},
   "cell_type": "markdown",
   "id": "5ee902dd-1dd9-46f0-b4fe-f2a0f73aa594",
   "metadata": {},
   "source": [
    "## Access lcviz UI from MAST without Installation\n",
    "\n",
    "Access lcviz without installation from [MAST Portal](https://mast.stsci.edu/portal/Mashup/Clients/Mast/Portal.html)\n",
    "* Enter name of target, for example \"Au Mic\"\n",
    "* Click \"Search\"\n",
    "* In \"Actions\" column, look for and click on this icon: <img src=\"jdaviz_visualize.svg\" width=\"16px\" style=\"margin-bottom: -4px\"/>\n",
    "\n",
    "## Full Installation with API\n",
    "\n",
    "Or you can run a local version of lcviz in a notebook so that you can also interact via API.  To install from scratch, call `pip install lcviz`, or to update an installation call `pip install -U lcviz`.  In this case, TIKE has an old version of lcviz installed by default, so we'll update directly in the notebook:"
   ]
  },
  {
   "cell_type": "code",
   "execution_count": null,
   "id": "97600f4f-a7a0-4467-bc15-9b11f17221df",
   "metadata": {},
   "outputs": [],
   "source": [
    "!pip install -U lcviz"
   ]
  },
  {
   "cell_type": "markdown",
   "id": "63b45772-fce9-49d6-a7f5-6dbf897be14c",
   "metadata": {},
   "source": [
    "We can then import lcviz and show the app without any data loaded:"
   ]
  },
  {
   "cell_type": "code",
   "execution_count": null,
   "id": "5398786e-9b1c-4eaa-937d-e4ce9d353527",
   "metadata": {},
   "outputs": [],
   "source": [
    "from lcviz import LCviz\n",
    "\n",
    "lcviz = LCviz()\n",
    "lcviz.show()"
   ]
  },
  {
   "cell_type": "markdown",
   "id": "ff6a16f5-d673-4872-972f-be8d1ac68f38",
   "metadata": {},
   "source": [
    "Loading data into a local installation of lcviz can be done in several ways:\n",
    "* Download a notebook from lcviz running on MAST (click the \"Open Data In > Jupyter\" in the top-right of the page)\n",
    "* Download the fits file from the portal, and select from the file chooser (shown by default) in the lcviz UI\n",
    "* Copy the URI, and load from URL within the lcviz UI (select \"URL\" from the Source dropdown in the sidebar) with `mast:TESS/product/` or `mast:Kepler/product/` as a prefix\n",
    "* Query for the lightcurve object from `lightkurve` and pass to `lcviz.load`"
   ]
  },
  {
   "cell_type": "code",
   "execution_count": null,
   "id": "55f7f48a-e91a-4cdf-ac5f-2253016fa2cd",
   "metadata": {},
   "outputs": [],
   "source": [
    "import lightkurve as lk\n",
    "\n",
    "lc_search_result = lk.search_lightcurve('AU Mic') \n",
    "lc_search_result"
   ]
  },
  {
   "cell_type": "code",
   "execution_count": null,
   "id": "bed500f8-a276-48a9-bed8-f1644f40fbd7",
   "metadata": {},
   "outputs": [],
   "source": [
    "lc = lc_search_result[4].download()\n",
    "lcviz.load(lc)"
   ]
  },
  {
   "cell_type": "markdown",
   "id": "aa9b5cbc-75a0-43ca-a199-6cca5be5018c",
   "metadata": {},
   "source": [
    "## Plugins\n",
    "\n",
    "lcviz wraps a UI around a lot of lightkurve functionality (and some additional functionality).  For example, try using the \"Flatten\" and \"Ephemeris\" plugins to reproduce the same results shown in the `lightkurve` tutorial."
   ]
  },
  {
   "cell_type": "markdown",
   "id": "43402339-dea4-479d-910e-bb152daa4fde",
   "metadata": {},
   "source": [
    "## API Access\n",
    "\n",
    "In addition to loading data _from_ `lightkurve`, you can also access a `lightkurve` object of the data in `lcviz` at any point, allowing to mix between different tools as well as between interactive and scripted workflows."
   ]
  },
  {
   "cell_type": "code",
   "execution_count": null,
   "id": "6074617f-d6a9-4a53-86fc-562c466383e3",
   "metadata": {},
   "outputs": [],
   "source": [
    "lcviz.get_data()"
   ]
  },
  {
   "cell_type": "markdown",
   "id": "87f5555a-7309-472d-aff6-75945b7fb26a",
   "metadata": {},
   "source": [
    "Most UI actions can also be replicated from the `lcviz` API.  To see in-app hints of the matching API commands, toggle the API hints button in the top toolbar or call"
   ]
  },
  {
   "cell_type": "code",
   "execution_count": null,
   "id": "f624564b-0eeb-49df-8039-566fd747ba6a",
   "metadata": {},
   "outputs": [],
   "source": [
    "lcviz.toggle_api_hints()"
   ]
  },
  {
   "cell_type": "code",
   "execution_count": null,
   "id": "02e26c55-49a1-44ae-9df6-6360f2480d4c",
   "metadata": {},
   "outputs": [],
   "source": []
  }
 ],
 "metadata": {
  "kernelspec": {
   "display_name": "Python 3 (ipykernel)",
   "language": "python",
   "name": "python3"
  },
  "language_info": {
   "codemirror_mode": {
    "name": "ipython",
    "version": 3
   },
   "file_extension": ".py",
   "mimetype": "text/x-python",
   "name": "python",
   "nbconvert_exporter": "python",
   "pygments_lexer": "ipython3",
   "version": "3.12.10"
  }
 },
 "nbformat": 4,
 "nbformat_minor": 5
}
