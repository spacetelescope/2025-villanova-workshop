{
 "cells": [
  {
   "cell_type": "markdown",
   "id": "07c8ab36-91ad-496a-8c88-782f4c0257ee",
   "metadata": {},
   "source": [
    "# Final Challenge: The Code That Saved MAST\n",
    "\n",
    "Agent, you've done it. You've outwitted Dr. Nefarious at every turn and collected seven cryptic clues - each a single letter. It's time to put the pieces together and stop the deletion sequence once and for all.\n",
    "\n",
    "---\n",
    "\n",
    "## Imports and Setup\n",
    "\n",
    "For this notebook, we'll import the following packages:\n",
    "- `astroquery.mast` to access data from the MAST Archive.\n",
    "- `astropy` to handle FITS.\n",
    "- `lightcurve` for visualizing timeseries data.\n",
    "- `mido` for sonifying timeseries data. This package is not included in TIKE's default environment, so we will have to install it with a magic command."
   ]
  },
  {
   "cell_type": "code",
   "execution_count": null,
   "id": "2cd261b4-e31f-48b7-8219-f1d6a1c97f1d",
   "metadata": {},
   "outputs": [],
   "source": [
    "!pip install mido"
   ]
  },
  {
   "cell_type": "code",
   "execution_count": null,
   "id": "76443f09-af31-4518-89c4-f6e968e69d1e",
   "metadata": {},
   "outputs": [],
   "source": [
    "from astroquery.mast import Observations, discovery_portal\n",
    "from astropy.io import fits\n",
    "import lightkurve as lk\n",
    "from mido import MidiFile, MidiTrack, Message, MetaMessage"
   ]
  },
  {
   "cell_type": "markdown",
   "id": "58dea010-6884-4fd1-bdd4-25a17ac930a3",
   "metadata": {},
   "source": [
    "We'll also need to configure `astroquery.mast` to use MAST's test database."
   ]
  },
  {
   "cell_type": "code",
   "execution_count": null,
   "id": "5b5ec1e5-3101-44f0-8f73-67a62df17239",
   "metadata": {},
   "outputs": [],
   "source": [
    "test_server = 'https://masttest.stsci.edu'\n",
    "service_patch = '.24Test'\n",
    "\n",
    "Observations._caom_all = Observations._caom_all + service_patch\n",
    "Observations._caom_cone = Observations._caom_cone + service_patch\n",
    "Observations._caom_filtered_position = 'Mast.Caom.Filtered' + service_patch + '.Position'\n",
    "Observations._caom_filtered = Observations._caom_filtered + service_patch\n",
    "Observations._caom_products = Observations._caom_products + service_patch\n",
    "\n",
    "discovery_portal.PortalAPI.MAST_REQUEST_URL = test_server + \"/api/v0/invoke\"\n",
    "discovery_portal.PortalAPI.COLUMNS_CONFIG_URL = test_server + \"/portal/Mashup/Mashup.asmx/columnsconfig\"\n",
    "discovery_portal.PortalAPI.MAST_DOWNLOAD_URL = test_server + \"/api/v0.1/Download/file\"\n",
    "discovery_portal.PortalAPI.MAST_BUNDLE_URL = test_server + \"/api/v0.1/Download/bundle\""
   ]
  },
  {
   "cell_type": "markdown",
   "id": "65bdb446-78b0-4964-aeb1-b9fce4403be0",
   "metadata": {},
   "source": [
    "## Solve the Puzzle!\n",
    "\n",
    "Each of the seven challenges you completed revealed a letter. When unscrambled, they spell a single word that is the key to unlocking MAST's hidden safeguard. Use the cell below to unscramble the clue letters and assign the code word to the variable `codeword`."
   ]
  },
  {
   "cell_type": "code",
   "execution_count": null,
   "id": "d72b882d-647d-472b-869e-8a0667a2c3b4",
   "metadata": {},
   "outputs": [],
   "source": [
    "codeword = ''  # Enter the code word here!"
   ]
  },
  {
   "cell_type": "markdown",
   "id": "6ecf6b0c",
   "metadata": {},
   "source": [
    "Hmmm, how peculiar! What could this code word mean?\n",
    "\n",
    "Maybe we should try searching for it in the MAST Archive. Let's see if we can find any datasets related to this code word using the `Observations.query_criteria` method. We'll search for observations that have a target name matching the code word."
   ]
  },
  {
   "cell_type": "code",
   "execution_count": null,
   "id": "f5dd5586-03c4-4af7-8b7a-822204d8ffd3",
   "metadata": {},
   "outputs": [],
   "source": [
    "secret_obs = Observations.query_criteria(target_name=codeword)\n",
    "secret_obs"
   ]
  },
  {
   "cell_type": "markdown",
   "id": "e1603c9b",
   "metadata": {},
   "source": [
    "Look at that! The query returned a single observation that looks quite... interesting. Let's fetch its data products and take a closer look."
   ]
  },
  {
   "cell_type": "code",
   "execution_count": null,
   "id": "add4866b",
   "metadata": {},
   "outputs": [],
   "source": [
    "secret_prod = Observations.get_product_list(secret_obs)\n",
    "secret_prod"
   ]
  },
  {
   "cell_type": "markdown",
   "id": "6f948eac",
   "metadata": {},
   "source": [
    "The observation returned a single timeseries data product. Let's download the file and examine it a bit more."
   ]
  },
  {
   "cell_type": "code",
   "execution_count": null,
   "id": "82ef5d3a",
   "metadata": {},
   "outputs": [],
   "source": [
    "manifest = Observations.download_products(secret_prod)"
   ]
  },
  {
   "cell_type": "code",
   "execution_count": null,
   "id": "94730146-6985-4419-b51d-9989301b1982",
   "metadata": {},
   "outputs": [],
   "source": [
    "# Open the product and read the data\n",
    "filepath = manifest[0]['Local Path']\n",
    "with fits.open(filepath) as hdul:\n",
    "    hdul.info()\n",
    "    time = hdul[1].data['TIME']\n",
    "    flux = hdul[1].data['PDCSAP_FLUX'].astype(int)"
   ]
  },
  {
   "cell_type": "markdown",
   "id": "c3a89a45",
   "metadata": {},
   "source": [
    "Looks like a pretty standard light curve file. Let's use the `lightkurve` package to visualize the timeries data. We'll plot the flux against time to see if there's anything unusual."
   ]
  },
  {
   "cell_type": "code",
   "execution_count": null,
   "id": "040a6d5c-0b08-4620-8589-d5a8cc8a6789",
   "metadata": {},
   "outputs": [],
   "source": [
    "lc = lk.TessLightCurveFile(filepath)\n",
    "lc.plot()"
   ]
  },
  {
   "cell_type": "markdown",
   "id": "514a8ee4",
   "metadata": {},
   "source": [
    "Wow, that's quite a light curve! It doesn't look like anything we've seen before, and it seems to have a... refrain?\n",
    "\n",
    "Dr. Nefarious is a lover of fine music, so let's visualize this light curve in a different way. We'll sonify the timeseries data using the `mido` package to create a MIDI file that plays the light curve as music."
   ]
  },
  {
   "cell_type": "code",
   "execution_count": null,
   "id": "af845f93",
   "metadata": {},
   "outputs": [],
   "source": [
    "# Create a new MIDI file and track\n",
    "mid = MidiFile()\n",
    "track = MidiTrack()\n",
    "mid.tracks.append(track)\n",
    "\n",
    "# Program = 65 (Alto Saxophone)\n",
    "track.append(Message('program_change', program=65, time=0))\n",
    "\n",
    "# Define the tempo (BPM) and calculate the microseconds per beat\n",
    "bpm = 76\n",
    "microseconds_per_beat = int(60_000_000 / bpm)\n",
    "ticks_per_beat = mid.ticks_per_beat\n",
    "\n",
    "# Set the tempo (this applies to the whole track)\n",
    "track.append(MetaMessage('set_tempo', tempo=microseconds_per_beat))\n",
    "\n",
    "# Set note duration (based on time difference)\n",
    "for i in range(len(flux) - 1):\n",
    "    pitch = flux[i]  # Get the pitch for the note\n",
    "    duration = time[i + 1] - time[i]  # Time difference between successive points\n",
    "    ticks = int(duration * ticks_per_beat)  # Convert to ticks\n",
    "\n",
    "    # Add 'note_on' message to start the note\n",
    "    track.append(Message('note_on', note=pitch, velocity=100, time=0))\n",
    "\n",
    "    # Add 'note_off' message to stop the note after the calculated duration\n",
    "    track.append(Message('note_off', note=pitch, velocity=100, time=ticks))\n",
    "\n",
    "# Save the MIDI file\n",
    "mid.save(\"super_secret_lightcurve.mid\")"
   ]
  },
  {
   "cell_type": "markdown",
   "id": "18f73f81",
   "metadata": {},
   "source": [
    "Once you've created the MIDI file, you can download it by right clicking on the file in the file browser and selecting \"Download\". Then, you can open the file with your favorite MIDI player to hear the light curve as music. You might recognize its melody!"
   ]
  },
  {
   "cell_type": "markdown",
   "id": "684a50ff",
   "metadata": {},
   "source": [
    "## Epilogue: A Song in the Stars\n",
    "\n",
    "As the light curve's song plays out, the deletion countdown halts.\n",
    "Dr. Nefarious, watching from his orbital data fortress, is stunned.\n",
    "\n",
    "*“What’s this? The Archive… it sings?”*\n",
    "\n",
    "Moved by the unexpected beauty encoded in the starlight, Dr. Nefarious hesitates. He listens. A moment passes — then another.\n",
    "And finally… he smiles.\n",
    "\n",
    "*“Very well,” he says. “I suppose some things are worth preserving.”*\n",
    "\n",
    "The danger is gone. The data is safe. And the stars — they whisper on.\n",
    "\n",
    "**Mission accomplished, agent. Welcome to the next generation of MAST users.**"
   ]
  },
  {
   "cell_type": "markdown",
   "id": "ec631afb-adc6-46d5-9bf6-12e529d2e3d6",
   "metadata": {},
   "source": [
    "## About this Notebook\n",
    "\n",
    "**Author:** Sam Bianco <br>\n",
    "**Keywords:** AAS 246, Sonification, MAST Data Challenge <br>\n",
    "**Last Updated:** June 2025 <br>\n",
    "***\n",
    "[Top of Page](#top)\n",
    "<img style=\"float: right;\" src=\"https://raw.githubusercontent.com/spacetelescope/notebooks/master/assets/stsci_pri_combo_mark_horizonal_white_bkgd.png\" alt=\"Space Telescope Logo\" width=\"200px\"/> "
   ]
  }
 ],
 "metadata": {
  "kernelspec": {
   "display_name": "Python 3",
   "language": "python",
   "name": "python3"
  },
  "language_info": {
   "codemirror_mode": {
    "name": "ipython",
    "version": 3
   },
   "file_extension": ".py",
   "mimetype": "text/x-python",
   "name": "python",
   "nbconvert_exporter": "python",
   "pygments_lexer": "ipython3",
   "version": "3.11.9"
  }
 },
 "nbformat": 4,
 "nbformat_minor": 5
}
