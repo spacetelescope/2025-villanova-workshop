{
 "cells": [
  {
   "cell_type": "markdown",
   "metadata": {},
   "source": [
    "# Querying for TESS Data in MAST with Astroquery\n",
    "\n",
    "---\n",
    "\n",
    "## Learning Goals\n",
    "\n",
    "- Use `astroquery.mast` to search for observations across mission collections by coordinates, object name, and other criteria.\n",
    "- Fetch and filter the data products associated with observations.\n",
    "- Locate and access data products on the cloud.\n",
    "\n",
    "## Table of Contents\n",
    "\n",
    "- [Introduction](#Introduction)\n",
    "- [What is Astroquery?](#What-is-Astroquery?)\n",
    "- [Imports and Setup](#Imports-and-Setup)\n",
    "- [Querying for MAST Observations](#Querying-for-MAST-Observations)\n",
    "  - [Query for Observations](#Step-1.-Query-for-Observations)\n",
    "  - [Fetch and Filter Product Files](#Step-2.-Fetch-and-Filter-Data-Products)\n",
    "  - [Access Data on the Cloud](#Step-3.-Access-Data-on-the-Cloud)\n",
    "  - [Streamlined Query](#Streamlined-Query)\n",
    "- [Exercise](#Exercise)\n",
    "\n",
    "## Introduction\n",
    "\n",
    "Dr. Nefarious, an evil mastermind and lover of jazz, has scrambled the index to the MAST Archive! Without it, astronomers can't locate critical datasets, and the longer is stays scrambled, the closer he gets to wiping the archive forever. Your next objective is clear: restore access to the Archive's data using powerful querying tools.\n",
    "Your goal is to track down the exact files needed to uncover Dr. Nefarious’s next move and send him running back to his data void.\n",
    "\n",
    "Let’s bring the Archive back online. Query away, agent.\n",
    "\n",
    "In this tutorial, we will learn how to search for, filter, and access TESS data on the cloud with the ``astroquery.mast`` module.\n",
    "\n",
    "## What is Astroquery?\n",
    "\n",
    "The [`astroquery`](https://astroquery.readthedocs.io/en/latest/) package is an astronomer-friendly way to programatically query online astronomical data sources. There are many modules, each of which is designed to access different datasets. The [`astroquery.mast`](https://astroquery.readthedocs.io/en/latest/mast/mast.html) module can be used to query the [MAST Archive](https://archive.stsci.edu/)."
   ]
  },
  {
   "cell_type": "markdown",
   "metadata": {},
   "source": [
    "## Imports and Setup\n",
    "\n",
    "We will import the following packages:\n",
    "- `astropy` to handle units and coordinates\n",
    "- `astroquery.mast` to search for and select data"
   ]
  },
  {
   "cell_type": "code",
   "execution_count": null,
   "metadata": {},
   "outputs": [],
   "source": [
    "import astropy.units as u\n",
    "from astropy.coordinates import SkyCoord\n",
    "from astropy.time import Time\n",
    "from astroquery.mast import Observations"
   ]
  },
  {
   "cell_type": "markdown",
   "metadata": {},
   "source": [
    "We will also enable cloud data access in `astroquery.mast`. This will allow us to fetch the cloud URIs for data products and access files directly without downloading them."
   ]
  },
  {
   "cell_type": "code",
   "execution_count": null,
   "metadata": {},
   "outputs": [],
   "source": [
    "Observations.enable_cloud_dataset()"
   ]
  },
  {
   "cell_type": "markdown",
   "metadata": {},
   "source": [
    "## Querying for MAST Observations\n",
    "\n",
    "In this section, we will use the following workflow to access TESS data:\n",
    "\n",
    "1. Query for TESS observations in MAST using metadata criteria.\n",
    "2. Fetch and filter the product files associated with each observation.\n",
    "3. Access the data directly by fetching the location of each product file in S3 cloud storage."
   ]
  },
  {
   "cell_type": "markdown",
   "metadata": {},
   "source": [
    "### Step 1. Query for Observations\n",
    "\n",
    "The [`astroquery.mast.Observations`](https://astroquery.readthedocs.io/en/latest/mast/mast_obsquery.html) class allows direct programmatic access to the [MAST Portal](https://mast.stsci.edu/portal/Mashup/Clients/Mast/Portal.html) and is used to query MAST observational data.\n",
    "\n",
    "Metadata queries can be done with three different functions:\n",
    "- `query_region()`: Performs a cone search given target coordinates and a radius (default = 0.2 degrees)\n",
    "- `query_object()`: Performs a cone search around an object by resolving the name of the object to coordinates.\n",
    "- `query_criteria()`: Returns a list of observations that meet a given set of criteria. \n",
    "\n",
    "`query_criteria()` is the most versatile function of the three, so we will be using this to query for TESS observations. You can still search by `coordinates` or `objectname`, but you can also query by additional desired criteria. Keep in mind, however, that at least one non-positional criterion must be supplied to `query_criteria()`. Otherwise, you should use one of the other query functions.\n",
    "\n",
    "To perform a search with `query_criteria()`, provide your criteria as keyword arguments. Valid criteria and their descriptions are provided as [CAOM Field Descriptions](https://mast.stsci.edu/api/v0/_c_a_o_mfields.html), or you can use the `get_metadata()` function:"
   ]
  },
  {
   "cell_type": "code",
   "execution_count": null,
   "metadata": {},
   "outputs": [],
   "source": [
    "Observations.get_metadata('observations')"
   ]
  },
  {
   "cell_type": "markdown",
   "metadata": {},
   "source": [
    "#### Region Search\n",
    "\n",
    "First, let's write a query to search for TESS observations in a certain region of the sky. We will pass in a set of coordinates and a radius in arcminutes to the `query_criteria` function. If no radius is specified, the default value is 0.2 degrees.\n",
    "\n",
    "To return only observations from the TESS mission, we will set the keyword `obs_collection` to equal `'TESS'`. We will also select for timeseries observations by setting the keyword `dataproduct_type` to `'timeseries'`. We will search for observations in a circular region around the coordinates, with a radius of 1 arcsecond."
   ]
  },
  {
   "cell_type": "code",
   "execution_count": null,
   "metadata": {},
   "outputs": [],
   "source": [
    "# Query for TESS observations around a coordinate\n",
    "coordinates = SkyCoord('22h57m39.04625s -29d37m20.0533s')\n",
    "obs = Observations.query_criteria(coordinates=coordinates,\n",
    "                                  radius='1 arcsec', \n",
    "                                  obs_collection='TESS',\n",
    "                                  dataproduct_type='timeseries')\n",
    "obs"
   ]
  },
  {
   "cell_type": "markdown",
   "metadata": {},
   "source": [
    "The results are returned as an `astropy.Table` object. From here, you can view the table and its structure, access data, modify data, perform filtering, sort by a column, and more."
   ]
  },
  {
   "cell_type": "markdown",
   "metadata": {},
   "source": [
    "#### Object Search\n",
    "\n",
    "We can query for observations around a certain object using the `objectname` keyword argument. We will query for observations around [Fomalhaut](https://www.stsci.edu/contents/media/images/2013/01/3130-Image?news=true), the brightest star in the southern constellation of [Piscis Austrinus](https://www.stsci.edu/contents/media/images/2005/10/1666-Image?client=ctns&news=true). We will set the search radius to 1 arcsecond, and we will limit our results to TESS timeseries observations."
   ]
  },
  {
   "cell_type": "code",
   "execution_count": null,
   "metadata": {},
   "outputs": [],
   "source": [
    "obs = Observations.query_criteria(objectname='Fomalhaut',\n",
    "                                  radius=___,\n",
    "                                  obs_collection=___,\n",
    "                                  dataproduct_type=___)\n",
    "obs "
   ]
  },
  {
   "cell_type": "markdown",
   "metadata": {},
   "source": [
    "#### Other Tips and Tricks\n",
    "\n",
    "`query_criteria()` is a powerful function, and there are some neat tricks you can use to perform more advanced queries.\n",
    "\n",
    "##### Value Range Search\n",
    "\n",
    "To query on fields that have a float data type, the keyword argument value should be in the form [minVal, maxVal]. Let's perform a rectangular region search of TESS timeseries observations by providing a range of values to the `s_ra` and `s_dec` keywords."
   ]
  },
  {
   "cell_type": "code",
   "execution_count": null,
   "metadata": {},
   "outputs": [],
   "source": [
    "# Perform a rectangular region search\n",
    "ra_range = 320, 320.5\n",
    "dec_range = 22, 22.2\n",
    "obs = Observations.query_criteria(obs_collection='TESS',\n",
    "                                  dataproduct_type='timeseries',\n",
    "                                  s_ra=___,\n",
    "                                  s_dec=___)\n",
    "obs"
   ]
  },
  {
   "cell_type": "markdown",
   "metadata": {},
   "source": [
    "We can also use ranges to query on time-based keywords, prefixed by `t_`. The `astropy.Time` module can be used to convert dates into Modified Julian Date (MJD) format. \n",
    "\n",
    "Let's query for TESS timeseries observations for the target `375422201` in the [TESS Input Catalog (TIC)](https://tess.mit.edu/science/tess-input-catalogue/). We'll also provide a range of values to the `t_obs_release` keyword to return only observations that were released after August 1st, 2024."
   ]
  },
  {
   "cell_type": "code",
   "execution_count": null,
   "metadata": {},
   "outputs": [],
   "source": [
    "# Get dates in Modified Julian Date (MJD) format\n",
    "past_time = Time('2024-08-01').mjd\n",
    "curr_time = Time.now().mjd\n",
    "\n",
    "# Query for all observations released since a specific date\n",
    "obs = Observations.query_criteria(target_name=375422201,\n",
    "                                  obs_collection=\"TESS\",\n",
    "                                  dataproduct_type='timeseries',\n",
    "                                  t_obs_release=___)\n",
    "print(f'Number of Observations: {len(obs)}')\n",
    "obs[:5]\n",
    "obs"
   ]
  },
  {
   "cell_type": "markdown",
   "metadata": {},
   "source": [
    "##### Multi-Valued Search\n",
    "\n",
    "For non-float criteria, you can pass in more than one value for a keyword by supplying the arguments as a list. The `sequence_number` keyword corresponds to the TESS sector. Below is a query that returns the TESS timeseries observations around TIC ID `375422201` for sectors 15 and 83."
   ]
  },
  {
   "cell_type": "code",
   "execution_count": null,
   "metadata": {},
   "outputs": [],
   "source": [
    "obs = Observations.query_criteria(target_name=375422201,\n",
    "                                  obs_collection=\"TESS\",\n",
    "                                  dataproduct_type='timeseries',\n",
    "                                  sequence_number=___)\n",
    "obs"
   ]
  },
  {
   "cell_type": "markdown",
   "metadata": {},
   "source": [
    "##### Wildcard Search\n",
    "\n",
    "Non-float criteria also support the use of wildcards. These are special characters used in search patterns to represent one or more unknown characters, allowing for flexible matching of strings. The available wildcards are `%` and `*`: each replaces any number of characters preceding, following, or in between the existing characters, depending on its placement. Wildcards can only be inserted into `string` objects in Python. However, you can use wildcards with integer criteria by passing in the arguments as strings. Remember this important caveat: only one wildcarded value can be processed per criterion.\n",
    "\n",
    "The following query demonstrates the use of wildcards. It returns TESS timeseries observations around TIC ID `375422201` where the proposal ID string starts with \"G0\" and contains the character \"6\". It also selects for observations where the sector number contains a \"7\". Note that although `sequence_number` is an integer field, it accepts a wildcarded string."
   ]
  },
  {
   "cell_type": "code",
   "execution_count": null,
   "metadata": {},
   "outputs": [],
   "source": [
    "obs = Observations.query_criteria(target_name=375422201,\n",
    "                                  obs_collection=\"TESS\",\n",
    "                                  dataproduct_type='timeseries',\n",
    "                                  proposal_id='G0*6*',\n",
    "                                  sequence_number=___)\n",
    "obs"
   ]
  },
  {
   "cell_type": "markdown",
   "metadata": {},
   "source": [
    "### Step 2. Fetch and Filter Data Products\n",
    "\n",
    "Each TESS observation returned by a MAST query can have one or more [associated data products](https://archive.stsci.edu/missions-and-data/tess/data-products). For reproducibility, let's query the TESS timeseries observations for the target `375422201` in the [TESS Input Catalog (TIC)](https://tess.mit.edu/science/tess-input-catalogue/). We will also select for sectors 15, 16, and 17."
   ]
  },
  {
   "cell_type": "code",
   "execution_count": null,
   "metadata": {},
   "outputs": [],
   "source": [
    "TESS_table = Observations.query_criteria(target_name=375422201,\n",
    "                                         obs_collection=\"TESS\",\n",
    "                                         dataproduct_type='timeseries',\n",
    "                                         sequence_number=[15, 16, 17]) \n",
    "TESS_table"
   ]
  },
  {
   "cell_type": "markdown",
   "metadata": {},
   "source": [
    "We can use the `Observations.get_product_list()` function to return the underlying product files for the four observations above. As input, the function takes a table of observations or a list of observation IDs (`obs_id` column)."
   ]
  },
  {
   "cell_type": "code",
   "execution_count": null,
   "metadata": {},
   "outputs": [],
   "source": [
    "data_products = Observations.get_product_list(___)\n",
    "\n",
    "print(f'Total Products: {len(data_products)}')\n",
    "data_products[:5]"
   ]
  },
  {
   "cell_type": "markdown",
   "metadata": {},
   "source": [
    "#### Filtering Products\n",
    "\n",
    "This returned quite a few products! We are not interested in all of them, and luckily, we have a handy function to filter them for us. `Observations.filter_products` allows you to filter based on minimum recommended products (`mrp_only`), file extension (`extension`), and any other of the [product fields](https://mast.stsci.edu/api/v0/_productsfields.html).\n",
    "\n",
    "A quick note on filtering: the **AND** operation is performed for a list of filters, and the **OR** operation is performed within a filter set. For example, the filter below will return products that are \"SCIENCE\" type **and** have a `productSubGroupDescription` of \"LC\" (light curves) **or** \"TP\" (target pixel files)."
   ]
  },
  {
   "cell_type": "code",
   "execution_count": null,
   "metadata": {},
   "outputs": [],
   "source": [
    "science_products = Observations.filter_products(data_products,\n",
    "                                                productType='SCIENCE',\n",
    "                                                productSubGroupDescription=[___, ___])\n",
    "science_products"
   ]
  },
  {
   "cell_type": "markdown",
   "metadata": {},
   "source": [
    "### Step 3. Access Data on the Cloud\n",
    "\n",
    "TESS data is publicly available for free on [Amazon Web Services](https://registry.opendata.aws/collab/stsci/). Now that we have a table of filtered products, we can use the `Observations.get_cloud_uris` function to locate these product files in the S3 bucket."
   ]
  },
  {
   "cell_type": "code",
   "execution_count": null,
   "metadata": {},
   "outputs": [],
   "source": [
    "Observations.get_cloud_uris(science_products)"
   ]
  },
  {
   "cell_type": "markdown",
   "metadata": {},
   "source": [
    "The output is a list of S3 URIs: one for each product in the table that we passed into the function. We can now use these URIs to open the files and stream their data directly into system memory. No expensive downloading required!\n",
    "\n",
    "We will explore some different ways to access cloud data in the afternoon session.\n",
    "\n",
    "### Streamlined Query\n",
    "\n",
    "In this tutorial, we walked through a 3-step workflow to query MAST observations and locate data products on the cloud. You can streamline this process by providing query criteria and product filters directly to the `get_cloud_uris()` function! Query criteria are supplied as keyword arguments, and filters are supplied through the `filter_products` parameter.\n",
    "\n",
    "Below is the streamlined version of the walkthrough example:"
   ]
  },
  {
   "cell_type": "code",
   "execution_count": null,
   "metadata": {},
   "outputs": [],
   "source": [
    "Observations.get_cloud_uris(target_name=375422201,\n",
    "                            obs_collection='TESS',\n",
    "                            dataproduct_type='timeseries',\n",
    "                            sequence_number=[15, 16, 17],\n",
    "                            filter_products={'productType': 'SCIENCE',\n",
    "                                             'productSubGroupDescription': ['LC', 'TP']})"
   ]
  },
  {
   "cell_type": "markdown",
   "metadata": {},
   "source": [
    "## Exercise\n",
    "\n",
    "To unlock your clue for this challenge, you'll need to use the workflow described in this notebook to query for observations and fetch product files, and locate data on the cloud.\n",
    "\n",
    "First, write a query that satisfies the following criteria:\n",
    "- Cone search around the M11 object with a radius of 0.2 degrees.\n",
    "- Image observations.\n",
    "- Wavelength region is \"OPTICAL\" or \"INFRARED\".\n",
    "- Observation description (title) contains the word \"survey\".\n",
    "- Observation exposure time is between 785 and 794 seconds.\n",
    "\n",
    "Since this is a more complicated query, it may take up to a minute to return results."
   ]
  },
  {
   "cell_type": "code",
   "execution_count": null,
   "metadata": {},
   "outputs": [],
   "source": [
    "# Write your criteria query\n",
    "obs = Observations.query_criteria(objectname=___,\n",
    "                                  radius=___,\n",
    "                                  dataproduct_type=___,\n",
    "                                  wavelength_region=[___, ___],\n",
    "                                  obs_title=___,\n",
    "                                  t_exptime=[___, ___])\n",
    "obs"
   ]
  },
  {
   "cell_type": "markdown",
   "metadata": {},
   "source": [
    "Next, you'll need to get the product files for your query results and filter them to only include the following:\n",
    "- FITS files.\n",
    "- Publicly available files (HINT: `dataRights` field)."
   ]
  },
  {
   "cell_type": "code",
   "execution_count": null,
   "metadata": {},
   "outputs": [],
   "source": [
    "# Get data products for your observations\n",
    "prods = Observations.___(___)\n",
    "prods"
   ]
  },
  {
   "cell_type": "code",
   "execution_count": null,
   "metadata": {},
   "outputs": [],
   "source": [
    "# Filter data products to get only FITS files with public access (\"PUBLIC\")\n",
    "filtered = Observations.filter_products(prods, \n",
    "                                        extension=___, \n",
    "                                        dataRights=___)\n",
    "filtered"
   ]
  },
  {
   "cell_type": "markdown",
   "metadata": {},
   "source": [
    "Excellent job, agent! **Your clues are hidden in the second and final columns of your filtered product results. You should collect three different letters.**\n",
    "\n",
    "If you finish this challenge early, feel free to experiment a bit more with the `astroquery.mast` module and your queries! See if you can locate any interesting datasets or data that would be relevant to your research. You can also visit our [MAST Notebooks GitHub page](https://spacetelescope.github.io/mast_notebooks/notebooks/multi_mission/astroquery.html) for more examples and inspiration."
   ]
  },
  {
   "cell_type": "markdown",
   "metadata": {},
   "source": [
    "## Additional Resources\n",
    "\n",
    "- [`astroquery.mast` Documentation](https://astroquery.readthedocs.io/en/latest/mast/mast.html)\n",
    "- [MAST Portal API](https://mast.stsci.edu/api/v0/)\n",
    "- [MAST Portal UI](https://mast.stsci.edu/portal/Mashup/Clients/Mast/Portal.html)\n",
    "\n",
    "## About this Notebook:\n",
    "If you have comments or questions on this notebook, please open a [GitHub issue on tike_content](https://github.com/spacetelescope/tike_content/issues/new) contact us through the [Archive Help Desk e-mail](mailto:archive@stsci.edu).\n",
    "\n",
    "**Author:** Sam Bianco\n",
    "\n",
    "**Last Updated:** September 2025\n",
    "\n",
    "---\n",
    "\n",
    "[Top of Page](#top)\n",
    "\n",
    "<img style=float:right; src=\"https://raw.githubusercontent.com/spacetelescope/notebooks/master/assets/stsci_pri_combo_mark_horizonal_white_bkgd.png\" alt=\"Space Telescope Logo\" width=\"200px\"/>"
   ]
  }
 ],
 "metadata": {
  "kernelspec": {
   "display_name": "Python 3",
   "language": "python",
   "name": "python3"
  },
  "language_info": {
   "codemirror_mode": {
    "name": "ipython",
    "version": 3
   },
   "file_extension": ".py",
   "mimetype": "text/x-python",
   "name": "python",
   "nbconvert_exporter": "python",
   "pygments_lexer": "ipython3",
   "version": "3.11.9"
  }
 },
 "nbformat": 4,
 "nbformat_minor": 4
}
