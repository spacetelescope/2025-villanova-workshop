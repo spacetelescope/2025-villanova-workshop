{
 "cells": [
  {
   "cell_type": "markdown",
   "metadata": {},
   "source": [
    "# Working with FITS Files\n",
    "\n",
    "---\n",
    "\n",
    "## Learning Goals\n",
    "\n",
    "- Open and explore astronomical data stored in FITS (Flexible Image Transport System) files.\n",
    "- Load FITS files using `astropy.io.fits` and inspect the file structure and metadata.\n",
    "- Visualize image data from FITS files using `matplotlib`.\n",
    "\n",
    "## Table of Contents\n",
    "\n",
    "- [Introduction](#Introduction)\n",
    "- [Imports and Setup](#Imports-and-Setup)\n",
    "- [Opening a Target Pixel File](#Opening-a-Target-Pixel-File)\n",
    "  - [Looking Inside a TPF](#Looking-Inside-a-TPF)\n",
    "  - [Inspecting the Headers](#Inspecting-the-Headers)\n",
    "  - [Inspecting the Data Table](#Inspecting-the-Data-Table)\n",
    "  - [Plotting a Single Cadence](#Plotting-a-Single-Cadence)\n",
    "- [Opening a Light Curve File](#Opening-a-Light-Curve-File)\n",
    "  - [Inspecting the Data Table](#Inspecting-the-Data-Table-1)\n",
    "  - [Plotting the Light Curve](#Plotting-the-Light-Curve)\n",
    "- [Exercise](#Exercise)\n",
    "\n",
    "## Introduction\n",
    "\n",
    "Dr. Nefarious, ever the thorn in astronomy’s side, has unleashed his latest scheme: he’s corrupted the headers of key TESS FITS files! Without those headers, the data is nearly unreadable, and astronomers everywhere are left staring at scrambled numbers instead of discovering new worlds.\n",
    "\n",
    "Your mission, Agent, is to dive into these files and restore order. With the power of `astropy.io.fits`, you’ll learn to peel back the layers of TESS data products, decode the headers, and reveal the precious light curves and pixel data hidden within.\n",
    "\n",
    "Every header keyword you unlock, every column you expose, brings you one step closer to foiling Dr. Nefarious’s plan and securing the archive."
   ]
  },
  {
   "cell_type": "markdown",
   "metadata": {},
   "source": [
    "## Imports and Setup\n",
    "\n",
    "We will import the following packages:\n",
    "- `astropy.io.fits` to open and read FITS files.\n",
    "- `matplotlib.pyplot` to visualize the data."
   ]
  },
  {
   "cell_type": "code",
   "execution_count": null,
   "metadata": {},
   "outputs": [],
   "source": [
    "from astropy.io import fits\n",
    "import matplotlib.pyplot as plt"
   ]
  },
  {
   "cell_type": "markdown",
   "metadata": {},
   "source": [
    "## Opening a Target Pixel File\n",
    "\n",
    "TESS (the Transiting Exoplanet Survey Satellite) looks for planets by watching stars get slightly dimmer when a planet passes in front of them.\n",
    "\n",
    "Instead of taking one huge picture of the whole sky, TESS also downloads small cutouts called Target Pixel Files (TPFs). Each TPF is like a little movie of a star, where each “frame” is called a cadence (about 2 minutes long). TPFs are used to analyze the brightness variations of stars over time, which can reveal phenomena such as transiting exoplanets, stellar variability, and other astrophysical events.\n",
    "\n",
    "Before we dive in, let’s define a few important terms:\n",
    "\n",
    "- Sector: TESS observes the sky in large strips. Each strip is called a sector (about a month of data).\n",
    "\n",
    "- HDU (Header Data Unit): A FITS file is made up of “units” that contain either data (like an image) or metadata (information about the observation).\n",
    "\n",
    "- BJD (Barycentric Julian Date): A standard time system used in astronomy.\n",
    "\n",
    "- TBJD (TESS BJD): A simpler version of BJD, offset by 2457000.\n",
    "\n",
    "- Cadence: The time between measurements (2 minutes for TPFs).\n",
    "\n",
    "### Looking Inside a TPF\n",
    "\n",
    "First, let's load in a TPF. Normally, we would search for this file through the MAST Archive, but to keep things simple, we'll just open it directly from the cloud. This TPF is for the star AU Mic. After loading the file to memory, we can use the `info` method to examine its structure."
   ]
  },
  {
   "cell_type": "code",
   "execution_count": null,
   "metadata": {},
   "outputs": [],
   "source": [
    "target_pixel_file = 's3://stpubdata/tess/public/tid/s0027/0000/0004/4142/0236/tess2020186164531-s0027-0000000441420236-0189-s_tp.fits'\n",
    "\n",
    "hdul_tpf = fits.open(target_pixel_file, fsspec_kwargs={'anon': True})\n",
    "hdul_tpf.info()"
   ]
  },
  {
   "cell_type": "markdown",
   "metadata": {},
   "source": [
    "You'll notice:\n",
    "\n",
    "- `PRIMARY` (0): Primary header that contains metadata about the observation.\n",
    "- `PIXELS` (1): Table of timestamps, fluxes, and other information.\n",
    "- `APERTURE` (2): The aperture mask used to extract the light curve.\n",
    "- `TARGET COSMIC RAY` (3): Currently unused.\n",
    "\n",
    "### Inspecting the Headers\n",
    "\n",
    "To inspect the metadata, we can look at the headers of each HDU. The primary header (HDU 0) contains general information about the observation, while HDU 1 has more specific details about the data. \n",
    "\n",
    "In the cell below, we display the header values for the primary header (HDU 0) by accessing the `header` attribute. Each line shows a keyword, its value, and a brief description comment."
   ]
  },
  {
   "cell_type": "code",
   "execution_count": null,
   "metadata": {},
   "outputs": [],
   "source": [
    "hdul_tpf[0].header"
   ]
  },
  {
   "cell_type": "markdown",
   "metadata": {},
   "source": [
    "### Inspecting the Data Table\n",
    "\n",
    "The first extension (HDU 1) is a table with lots of useful columns. We can display these columns by accessing the `columns` attribute of the HDU."
   ]
  },
  {
   "cell_type": "code",
   "execution_count": null,
   "metadata": {},
   "outputs": [],
   "source": [
    "hdul_tpf[___].___"
   ]
  },
  {
   "cell_type": "markdown",
   "metadata": {},
   "source": [
    "Some especially important columns are:\n",
    "\n",
    "- `TIME`: timestamps (in TBJD).\n",
    "\n",
    "- `RAW_CNTS`: raw pixel values.\n",
    "\n",
    "- `FLUX`: calibrated pixel values (corrected for the instrument).\n",
    "\n",
    "- `FLUX_BKG`: background light level.\n",
    "\n",
    "Now let’s pull out the time stamps and the calibrated flux values (our main signal)."
   ]
  },
  {
   "cell_type": "code",
   "execution_count": null,
   "metadata": {},
   "outputs": [],
   "source": [
    "tpf_data = hdul_tpf[___].data\n",
    "tess_bjds = tpf_data[___]\n",
    "calibrated_fluxes = tpf_data[___]\n",
    "hdul_tpf.close()\n",
    "\n",
    "print(\"Type:\", type(calibrated_fluxes))\n",
    "print(\"Shape:\", calibrated_fluxes.shape)"
   ]
  },
  {
   "cell_type": "markdown",
   "metadata": {},
   "source": [
    "The shape of this data tells us that there are 17,546 cadences (rows), and each cadence is a 13x11 image of pixels.\n",
    "\n",
    "### Plotting a Single Cadence\n",
    "\n",
    "Now, let's visualize the calibrated fluxes for a single cadence (the fifth one, index 4). This will give us an idea of what the star and its surroundings look like at that moment in time. The image will show us the star (bright pixels) and the surrounding sky (dimmer pixels)."
   ]
  },
  {
   "cell_type": "code",
   "execution_count": null,
   "metadata": {},
   "outputs": [],
   "source": [
    "# Plot the calibrated fluxes for the fifth cadence (index 4)\n",
    "plt.imshow(calibrated_fluxes[4,:,:], origin=\"lower\")\n",
    "plt.title(\"Au Mic Calibrated Fluxes - Sector 27, Fifth Cadence\")\n",
    "plt.colorbar()\n",
    "plt.show()"
   ]
  },
  {
   "cell_type": "markdown",
   "metadata": {},
   "source": [
    "## Opening a Light Curve File\n",
    "\n",
    "Now that we've seen how to open and explore a TPF, let's look at a light curve file. A light curve file contains a timeseries of brightness measurements for a star, extracted from the TPF. We'll look at the light curve for the same star, AU Mic."
   ]
  },
  {
   "cell_type": "code",
   "execution_count": null,
   "metadata": {},
   "outputs": [],
   "source": [
    "light_curve_file = 's3://stpubdata/tess/public/tid/s0027/0000/0004/4142/0236/tess2020186164531-s0027-0000000441420236-0189-s_lc.fits'\n",
    "\n",
    "hdul_lc = fits.open(___, fsspec_kwargs={'anon': True})\n",
    "hdul_lc.___()"
   ]
  },
  {
   "cell_type": "markdown",
   "metadata": {},
   "source": [
    "The output shows us three HDUs:\n",
    "\n",
    "- `PRIMARY` (0): Primary header that contains metadata about the observation.\n",
    "- `LIGHTCURVE` (1): Table of timestamps, fluxes, and other information.\n",
    "- `APERTURE` (2): The aperture mask used to extract the light curve.\n",
    "\n",
    "The information we want is in the `LIGHTCURVE` extension (HDU 1).\n",
    "\n",
    "### Inspecting the Data Table\n",
    "\n",
    "The first extension (HDU 1) is a table with lots of useful columns. We can display these columns by accessing the `columns` attribute of the HDU."
   ]
  },
  {
   "cell_type": "code",
   "execution_count": null,
   "metadata": {},
   "outputs": [],
   "source": [
    "hdul_lc[1].columns"
   ]
  },
  {
   "cell_type": "markdown",
   "metadata": {},
   "source": [
    "Here we see columns such as:\n",
    "\n",
    "- `TIME`: Timestamps (in TBJD).\n",
    "- `SAP_FLUX`: Simple Aperture Photometry flux (our main signal).\n",
    "- `PDCSAP_FLUX`: The corrected flux with instrunmental trends removed.\n",
    "\n",
    "For plotting, we'll focus on `TIME` and `PDCSAP_FLUX`."
   ]
  },
  {
   "cell_type": "code",
   "execution_count": null,
   "metadata": {},
   "outputs": [],
   "source": [
    "lc_data = hdul_lc[1].data\n",
    "time = lc_data[___]\n",
    "pdcsap_flux = lc_data[___]\n",
    "hdul_lc.close()\n",
    "\n",
    "print(\"Shape of TIME array:\", time.shape)\n",
    "print(\"Shape of PDCSAP_FLUX array:\", pdcsap_flux.shape)"
   ]
  },
  {
   "cell_type": "markdown",
   "metadata": {},
   "source": [
    "The shape of both data arrays tells us that we have 17,546 timestamps and corresponding flux measurements.\n",
    "\n",
    "### Plotting the Light Curve\n",
    "\n",
    "Now, let's plot the light curve using `matplotlib`. We'll plot the corrected flux (`PDCSAP_FLUX`) against time (`TIME`). This will show us how the brightness of the star changes over time, which can reveal interesting phenomena like transiting exoplanets or stellar variability."
   ]
  },
  {
   "cell_type": "code",
   "execution_count": null,
   "metadata": {},
   "outputs": [],
   "source": [
    "plt.plot(time, pdcsap_flux, '.-')\n",
    "plt.xlabel('Time (TBJD)')\n",
    "plt.ylabel('PDCSAP Flux (e-/s)')\n",
    "plt.title('Au Mic Light Curve - Sector 27')\n",
    "plt.show()"
   ]
  },
  {
   "cell_type": "markdown",
   "metadata": {},
   "source": [
    "Using the `lightkurve` package would have made this process much simpler, but understanding how to work with FITS files directly is crucial for more advanced analyses and custom workflows."
   ]
  },
  {
   "cell_type": "markdown",
   "metadata": {},
   "source": [
    "## Exercise\n",
    "\n",
    "To unlock your clue for this challenge, you'll need to explore a different light curve file using the workflow described in this notebook. The light curve we will examine is for TIC 25155310, a star which is known to host an exoplanet, WASP-126 b.\n",
    "\n",
    "First, open the light curve from the cloud using the URI below."
   ]
  },
  {
   "cell_type": "code",
   "execution_count": null,
   "metadata": {},
   "outputs": [],
   "source": [
    "# URI for the light curve of TIC 25155310\n",
    "lc_uri = 's3://stpubdata/tess/public/tid/s0004/0000/0000/2515/5310/tess2018292075959-s0004-0000000025155310-0124-s_lc.fits'\n",
    "\n",
    "# Open the light curve file from the cloud\n",
    "hdul = fits.open(___, fsspec_kwargs={'anon': True})\n",
    "hdul.___()"
   ]
  },
  {
   "cell_type": "markdown",
   "metadata": {},
   "source": [
    "Next, you should access the header of the `PRIMARY` HDU extension. These header keywords contain important metadata about the observation. \n",
    "\n",
    "Print out the values for the following keywords: `SECTOR`, `CAMERA`, `CCD`, and `TICID`."
   ]
  },
  {
   "cell_type": "code",
   "execution_count": null,
   "metadata": {},
   "outputs": [],
   "source": [
    "# Inspect the primary header and print out values for the keywords above\n",
    "header = hdul[___].___\n",
    "print(\"SECTOR:\", header[\"SECTOR\"])\n",
    "print(\"CAMERA:\", header[___])\n",
    "print(\"CCD:\", header[___])\n",
    "print(\"TICID:\", header[___])"
   ]
  },
  {
   "cell_type": "markdown",
   "metadata": {},
   "source": [
    "**Your first clue for this notebook is the letter that corresponds to the sum of the digits in the `TICID` value + 1.**\n",
    "\n",
    "Next, inspect the header of the `LIGHTCURVE` HDU extension. This header contains information about the data table.\n",
    "\n",
    "**Your next hint is the value for the keyword `TFORM2` in this header.**"
   ]
  },
  {
   "cell_type": "code",
   "execution_count": null,
   "metadata": {},
   "outputs": [],
   "source": [
    "# Inspect the header of the LIGHTCURVE extension\n",
    "hdul[___].___"
   ]
  },
  {
   "cell_type": "markdown",
   "metadata": {},
   "source": [
    "To find your final clue, let's make things a bit more challenging! First, plot this light curve using the `TIME` and `PDCSAP_FLUX` columns."
   ]
  },
  {
   "cell_type": "code",
   "execution_count": null,
   "metadata": {},
   "outputs": [],
   "source": [
    "# Plot the light curve\n",
    "# HINT: See the code under the \"Plotting the Light Curve\" heading above if you're stuck!\n",
    "lc_data = hdul[___].___\n",
    "time = lc_data[___]\n",
    "pdcsap_flux = lc_data[___]\n",
    "\n",
    "# Plot the light curve\n",
    "plt.plot(___, ___, '.-')\n",
    "plt.xlabel('Time (TBJD)')\n",
    "plt.ylabel('PDCSAP Flux (e-/s)')\n",
    "plt.title('TIC 25155310 Light Curve')\n",
    "plt.show()"
   ]
  },
  {
   "cell_type": "markdown",
   "metadata": {},
   "source": [
    "There are some clear transits in this data! Let's look more closely at one of them. We've given you the epoch (reference point in time) of a transit in TBJD (TESS Barycentric Julian Date) as `t0 = 1413.03`. Zoom in on the light curve to show the region from `t0 - 0.3` to `t0 + 0.3`.\n",
    "\n",
    "HINT: You can use `plt.xlim()` to set the x-axis limits of your plot."
   ]
  },
  {
   "cell_type": "code",
   "execution_count": null,
   "metadata": {},
   "outputs": [],
   "source": [
    "# Epoch of a transit in TBJD\n",
    "t0 = 1413.03\n",
    "\n",
    "# Plot the transit!\n",
    "plt.plot(___, ___, '.-')\n",
    "plt.xlim(___, ___)\n",
    "plt.xlabel('Time (TBJD)')\n",
    "plt.ylabel('PDCSAP Flux (e-/s)')\n",
    "plt.title('TIC 25155310 Light Curve')\n",
    "plt.show()"
   ]
  },
  {
   "cell_type": "markdown",
   "metadata": {},
   "source": [
    "Wow, look at that transit! Note the first tick value shown on the x-axis of your zoomed-in plot. **Your final clue is the letter that corresponds to the final digit of this tick value.**\n",
    "\n",
    "Congratulations, Agent! Now that you've completed all the challenges and gathered your clues (you should have 7 letters in total), you are one step closer to thwarting Dr. Nefarious's plans and securing the astronomical archives. See the `Final_Challenge.ipynb` notebook to complete your mission!"
   ]
  },
  {
   "cell_type": "markdown",
   "metadata": {},
   "source": [
    "## Additional Resources\n",
    "\n",
    "- [Notebook: Read and Display a TESS Target Pixel File](https://spacetelescope.github.io/mast_notebooks/notebooks/TESS/beginner_how_to_use_tp/beginner_how_to_use_tp.html)\n",
    "- [Notebook: Read and Plot a TESS Light Curve File](https://spacetelescope.github.io/mast_notebooks/notebooks/TESS/beginner_how_to_use_lc/beginner_how_to_use_lc.html)\n",
    "- [`astropy.io.fits` Documentation](https://docs.astropy.org/en/latest/io/fits/index.html)\n",
    "- [Astropy Tutorial on FITS Images](https://learn.astropy.org/tutorials/FITS-images.html)\n",
    "\n",
    "## About this Notebook:\n",
    "If you have comments or questions on this notebook, please open a [GitHub issue on tike_content](https://github.com/spacetelescope/tike_content/issues/new) contact us through the [Archive Help Desk e-mail](mailto:archive@stsci.edu).\n",
    "\n",
    "**Author:** Sam Bianco\n",
    "\n",
    "**Last Updated:** September 2025\n",
    "\n",
    "---\n",
    "\n",
    "[Top of Page](#top)\n",
    "\n",
    "<img style=float:right; src=\"https://raw.githubusercontent.com/spacetelescope/notebooks/master/assets/stsci_pri_combo_mark_horizonal_white_bkgd.png\" alt=\"Space Telescope Logo\" width=\"200px\"/>"
   ]
  }
 ],
 "metadata": {
  "kernelspec": {
   "display_name": "Python 3",
   "language": "python",
   "name": "python3"
  },
  "language_info": {
   "codemirror_mode": {
    "name": "ipython",
    "version": 3
   },
   "file_extension": ".py",
   "mimetype": "text/x-python",
   "name": "python",
   "nbconvert_exporter": "python",
   "pygments_lexer": "ipython3",
   "version": "3.11.9"
  }
 },
 "nbformat": 4,
 "nbformat_minor": 4
}
