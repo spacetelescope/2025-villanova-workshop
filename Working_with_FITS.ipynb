{
 "cells": [
  {
   "cell_type": "markdown",
   "metadata": {},
   "source": [
    "# Working with FITS Files\n",
    "\n",
    "---\n",
    "\n",
    "reading headers, plotting light curves and images\n",
    "\n",
    "show people that everything lightkurve does is very tedious and painful to do yourself. If you want to write a paper, you'll need to do the tedious stuff.\n",
    "\n",
    "## Learning Goals\n",
    "\n",
    "- Open and explore astronomical data stored in FITS (Flexible Image Transport System) files.\n",
    "- Load FITS files using `astropy.io.fits` and inspect the file structure and metadata.\n",
    "- Visualize image data from FITS files using `matplotlib`.\n",
    "\n",
    "## Table of Contents\n",
    "\n",
    "- [Introduction](#Introduction)\n",
    "- [Imports and Setup](#Imports-and-Setup)\n",
    "- [Exercise](#Exercise)\n",
    "\n",
    "## Introduction\n",
    "\n",
    "Dr. Nefarious, an evil mastermind and lover of jazz, has scrambled the index to the MAST Archive! Without it, astronomers can't locate critical datasets, and the longer is stays scrambled, the closer he gets to wiping the archive forever. Your next objective is clear: restore access to the Archive's data using powerful querying tools.\n",
    "Your goal is to track down the exact files needed to uncover Dr. Nefarious’s next move and send him running back to his data void.\n",
    "\n",
    "Let’s bring the Archive back online. Query away, agent.\n",
    "\n",
    "In this tutorial, we will learn how to search for, filter, and access TESS data on the cloud with the ``astroquery.mast`` module."
   ]
  },
  {
   "cell_type": "markdown",
   "metadata": {},
   "source": [
    "## Imports and Setup\n",
    "\n",
    "We will import the following packages:\n",
    "- FILL IN"
   ]
  },
  {
   "cell_type": "code",
   "execution_count": 2,
   "metadata": {},
   "outputs": [],
   "source": [
    "from astropy.io import fits\n",
    "from astropy.visualization import ZScaleInterval, ImageNormalize\n",
    "import matplotlib.pyplot as plt"
   ]
  },
  {
   "cell_type": "markdown",
   "metadata": {},
   "source": [
    "## Opening a Target Pixel File\n",
    "\n",
    "TESS (the Transiting Exoplanet Survey Satellite) looks for planets by watching stars get slightly dimmer when a planet passes in front of them.\n",
    "\n",
    "Instead of taking one huge picture of the whole sky, TESS also downloads small cutouts called Target Pixel Files (TPFs). Each TPF is like a little movie of a star, where each “frame” is called a cadence (about 2 minutes long). TPFs are used to analyze the brightness variations of stars over time, which can reveal phenomena such as transiting exoplanets, stellar variability, and other astrophysical events.\n",
    "\n",
    "Before we dive in, let’s define a few important terms:\n",
    "\n",
    "- Sector: TESS observes the sky in large strips. Each strip is called a sector (about a month of data).\n",
    "\n",
    "- HDU (Header Data Unit): A FITS file is made up of “units” that contain either data (like an image) or metadata (information about the observation).\n",
    "\n",
    "- BJD (Barycentric Julian Date): A standard time system used in astronomy.\n",
    "\n",
    "- TBJD (TESS BJD): A simpler version of BJD, offset by 2457000.\n",
    "\n",
    "- Cadence: The time between measurements (2 minutes for TPFs).\n",
    "\n",
    "### Looking Inside a TPF\n",
    "\n",
    "First, let's load in a TPF. Normally, we would search for this file through the MAST Archive, but to keep things simple, we'll just open it directly from the cloud. This TPF is for the star AU Mic. After loading the file to memory, we can use the `info` method to examine its structure."
   ]
  },
  {
   "cell_type": "code",
   "execution_count": 26,
   "metadata": {},
   "outputs": [
    {
     "name": "stdout",
     "output_type": "stream",
     "text": [
      "Filename: <class 's3fs.core.S3File'>\n",
      "No.    Name      Ver    Type      Cards   Dimensions   Format\n",
      "  0  PRIMARY       1 PrimaryHDU      44   ()      \n",
      "  1  PIXELS        1 BinTableHDU    248   17546R x 11C   [D, E, J, 143J, 143E, 143E, 143E, 143E, J, E, E]   \n",
      "  2  APERTURE      1 ImageHDU        49   (11, 13)   int32   \n",
      "  3  TARGET COSMIC RAY    1 BinTableHDU     27   0R x 4C   [J, I, I, E]   \n"
     ]
    }
   ],
   "source": [
    "target_pixel_file = 's3://stpubdata/tess/public/tid/s0027/0000/0004/4142/0236/tess2020186164531-s0027-0000000441420236-0189-s_tp.fits'\n",
    "\n",
    "hdul_tpf = fits.open(target_pixel_file, fsspec_kwargs={'anon': True})\n",
    "hdul_tpf.info()"
   ]
  },
  {
   "cell_type": "markdown",
   "metadata": {},
   "source": [
    "You'll notice:\n",
    "\n",
    "- `PRIMARY` (0): Primary header that contains metadata about the observation.\n",
    "- `PIXELS` (1): Table of timestamps, fluxes, and other information.\n",
    "- `APERTURE` (2): The aperture mask used to extract the light curve.\n",
    "- `TARGET COSMIC RAY` (3): Currently unused.\n",
    "\n",
    "### Inspecting the Headers\n",
    "\n",
    "To inspect the metadata, we can look at the headers of each HDU. The primary header (HDU 0) contains general information about the observation, while HDU 1 has more specific details about the data. \n",
    "\n",
    "In the cell below, we display the header values for the primary header (HDU 0) by accessing the `header` attribute. Each line shows a keyword, its value, and a brief description comment."
   ]
  },
  {
   "cell_type": "code",
   "execution_count": 27,
   "metadata": {},
   "outputs": [
    {
     "data": {
      "text/plain": [
       "SIMPLE  =                    T / conforms to FITS standards                     \n",
       "BITPIX  =                    8 / array data type                                \n",
       "NAXIS   =                    0 / number of array dimensions                     \n",
       "EXTEND  =                    T / file contains extensions                       \n",
       "NEXTEND =                    3 / number of standard extensions                  \n",
       "EXTNAME = 'PRIMARY '           / name of extension                              \n",
       "EXTVER  =                    1 / extension version number (not format version)  \n",
       "SIMDATA =                    F / file is based on simulated data                \n",
       "ORIGIN  = 'NASA/Ames'          / institution responsible for creating this file \n",
       "DATE    = '2020-08-29'         / file creation date.                            \n",
       "TSTART  =    2036.283336447470 / observation start time in BTJD                 \n",
       "TSTOP   =    2060.647593255853 / observation stop time in BTJD                  \n",
       "DATE-OBS= '2020-07-05T18:46:51.085' / TSTART as UTC calendar date               \n",
       "DATE-END= '2020-07-30T03:31:22.873' / TSTOP as UTC calendar date                \n",
       "CREATOR = '25471 TargetPixelExporterPipelineModule' / pipeline job and program u\n",
       "PROCVER = 'spoc-5.0.9-20200827' / SW version                                    \n",
       "FILEVER = '1.0     '           / file format version                            \n",
       "TIMVERSN= 'OGIP/93-003'        / OGIP memo number for file format               \n",
       "TELESCOP= 'TESS    '           / telescope                                      \n",
       "INSTRUME= 'TESS Photometer'    / detector type                                  \n",
       "DATA_REL=                   38 / data release version number                    \n",
       "OBJECT  = 'TIC 441420236'      / string version of target id                    \n",
       "TICID   =            441420236 / unique tess target identifier                  \n",
       "SECTOR  =                   27 / Observing sector                               \n",
       "CAMERA  =                    1 / Camera number                                  \n",
       "CCD     =                    3 / CCD chip number                                \n",
       "PXTABLE =                  258 / pixel table id                                 \n",
       "RADESYS = 'ICRS    '           / reference frame of celestial coordinates       \n",
       "RA_OBJ  = 311.2897181920230000 / [deg] right ascension                          \n",
       "DEC_OBJ = -31.3409004606736000 / [deg] declination                              \n",
       "EQUINOX =               2000.0 / equinox of celestial coordinate system         \n",
       "PMRA    =         281.42400000 / [mas/yr] RA proper motion                      \n",
       "PMDEC   =        -359.89500000 / [mas/yr] Dec proper motion                     \n",
       "PMTOTAL =         456.86308540 / [mas/yr] total proper motion                   \n",
       "TESSMAG =           6.75500011 / [mag] TESS magnitude                           \n",
       "TEFF    =                      / [K] Effective temperature                      \n",
       "LOGG    =           4.57124996 / [cm/s2] log10 surface gravity                  \n",
       "MH      =                      / [log10([M/H])] metallicity                     \n",
       "RADIUS  =           0.69800901 / [solar radii] stellar radius                   \n",
       "TICVER  = '8.1     '           / TIC version                                    \n",
       "CRMITEN =                    T / spacecraft cosmic ray mitigation enabled       \n",
       "CRBLKSZ =                   10 / [exposures] s/c cosmic ray mitigation block siz\n",
       "CRSPOC  =                    F / SPOC cosmic ray cleaning enabled               \n",
       "CHECKSUM= 'oalCpVj9oZjCoZj9'   / HDU checksum updated 2020-08-29T12:25:55Z      "
      ]
     },
     "execution_count": 27,
     "metadata": {},
     "output_type": "execute_result"
    }
   ],
   "source": [
    "hdul_tpf[0].header"
   ]
  },
  {
   "cell_type": "markdown",
   "metadata": {},
   "source": [
    "### Inspecting the Data Table\n",
    "\n",
    "The first extension (HDU 1) is a table with lots of useful columns. We can display these columns by accessing the `columns` attribute of the HDU."
   ]
  },
  {
   "cell_type": "code",
   "execution_count": 28,
   "metadata": {},
   "outputs": [
    {
     "data": {
      "text/plain": [
       "ColDefs(\n",
       "    name = 'TIME'; format = 'D'; unit = 'BJD - 2457000, days'; disp = 'D14.7'\n",
       "    name = 'TIMECORR'; format = 'E'; unit = 'd'; disp = 'E14.7'\n",
       "    name = 'CADENCENO'; format = 'J'; disp = 'I10'\n",
       "    name = 'RAW_CNTS'; format = '143J'; unit = 'count'; null = -1; disp = 'I8'; dim = '(11,13)'\n",
       "    name = 'FLUX'; format = '143E'; unit = 'e-/s'; disp = 'E14.7'; dim = '(11,13)'\n",
       "    name = 'FLUX_ERR'; format = '143E'; unit = 'e-/s'; disp = 'E14.7'; dim = '(11,13)'\n",
       "    name = 'FLUX_BKG'; format = '143E'; unit = 'e-/s'; disp = 'E14.7'; dim = '(11,13)'\n",
       "    name = 'FLUX_BKG_ERR'; format = '143E'; unit = 'e-/s'; disp = 'E14.7'; dim = '(11,13)'\n",
       "    name = 'QUALITY'; format = 'J'; disp = 'B16.16'\n",
       "    name = 'POS_CORR1'; format = 'E'; unit = 'pixel'; disp = 'E14.7'\n",
       "    name = 'POS_CORR2'; format = 'E'; unit = 'pixel'; disp = 'E14.7'\n",
       ")"
      ]
     },
     "execution_count": 28,
     "metadata": {},
     "output_type": "execute_result"
    }
   ],
   "source": [
    "hdul_tpf[1].columns"
   ]
  },
  {
   "cell_type": "markdown",
   "metadata": {},
   "source": [
    "Some especially important columns are:\n",
    "\n",
    "- `TIME`: timestamps (in TBJD).\n",
    "\n",
    "- `RAW_CNTS`: raw pixel values.\n",
    "\n",
    "- `FLUX`: calibrated pixel values (corrected for the instrument).\n",
    "\n",
    "- `FLUX_BKG`: background light level.\n",
    "\n",
    "Now let’s pull out the time stamps and the calibrated flux values (our main signal)."
   ]
  },
  {
   "cell_type": "code",
   "execution_count": 29,
   "metadata": {},
   "outputs": [
    {
     "name": "stdout",
     "output_type": "stream",
     "text": [
      "<class 'numpy.ndarray'>\n",
      "(17546, 13, 11)\n"
     ]
    }
   ],
   "source": [
    "tess_bjds = hdul_tpf[1].data[\"TIME\"]\n",
    "calibrated_fluxes = hdul_tpf[1].data[\"FLUX\"]\n",
    "hdul_tpf.close()\n",
    "\n",
    "print(type(calibrated_fluxes))\n",
    "print(calibrated_fluxes.shape)"
   ]
  },
  {
   "cell_type": "markdown",
   "metadata": {},
   "source": [
    "The shape of this data tells us that there are 17,546 cadences (rows), and each cadence is a 13x11 image of pixels.\n",
    "\n",
    "### Plotting a Single Cadence\n",
    "\n",
    "Now, let's visualize the calibrated fluxes for a single cadence (the fifth one, index 4). This will give us an idea of what the star and its surroundings look like at that moment in time. The image will show us the star (bright pixels) and the surrounding sky (dimmer pixels)."
   ]
  },
  {
   "cell_type": "code",
   "execution_count": 30,
   "metadata": {},
   "outputs": [
    {
     "data": {
      "image/png": "[encoded data removed]",
      "text/plain": [
       "<Figure size 640x480 with 2 Axes>"
      ]
     },
     "metadata": {},
     "output_type": "display_data"
    }
   ],
   "source": [
    "# Plot the calibrated fluxes for the fifth cadence (index 4)\n",
    "plt.imshow(calibrated_fluxes[4,:,:], origin=\"lower\")\n",
    "plt.title(\"Au Mic Calibrated Fluxes - Sector 27, Fifth Cadence\")\n",
    "plt.colorbar()\n",
    "plt.show()"
   ]
  },
  {
   "cell_type": "markdown",
   "metadata": {},
   "source": [
    "## Opening a Light Curve File\n",
    "\n",
    "Now that we've seen how to open and explore a TPF, let's look at a light curve file. A light curve file contains a timeseries of brightness measurements for a star, extracted from the TPF. We'll look at the light curve for the same star, AU Mic."
   ]
  },
  {
   "cell_type": "code",
   "execution_count": 31,
   "metadata": {},
   "outputs": [
    {
     "name": "stdout",
     "output_type": "stream",
     "text": [
      "Filename: <class 's3fs.core.S3File'>\n",
      "No.    Name      Ver    Type      Cards   Dimensions   Format\n",
      "  0  PRIMARY       1 PrimaryHDU      44   ()      \n",
      "  1  LIGHTCURVE    1 BinTableHDU    161   17546R x 20C   [D, E, J, E, E, E, E, E, E, J, D, E, D, E, D, E, D, E, E, E]   \n",
      "  2  APERTURE      1 ImageHDU        49   (11, 13)   int32   \n"
     ]
    }
   ],
   "source": [
    "light_curve_file = 's3://stpubdata/tess/public/tid/s0027/0000/0004/4142/0236/tess2020186164531-s0027-0000000441420236-0189-s_lc.fits'\n",
    "\n",
    "hdul_lc = fits.open(light_curve_file, fsspec_kwargs={'anon': True})\n",
    "hdul_lc.info()"
   ]
  },
  {
   "cell_type": "markdown",
   "metadata": {},
   "source": [
    "The output shows us three HDUs:\n",
    "\n",
    "- `PRIMARY` (0): Primary header that contains metadata about the observation.\n",
    "- `LIGHTCURVE` (1): Table of timestamps, fluxes, and other information.\n",
    "- `APERTURE` (2): The aperture mask used to extract the light curve.\n",
    "\n",
    "The information we want is in the `LIGHTCURVE` extension (HDU 1)."
   ]
  },
  {
   "cell_type": "code",
   "execution_count": 24,
   "metadata": {},
   "outputs": [
    {
     "data": {
      "text/plain": [
       "ColDefs(\n",
       "    name = 'TIME'; format = 'D'; unit = 'BJD - 2457000, days'; disp = 'D14.7'\n",
       "    name = 'TIMECORR'; format = 'E'; unit = 'd'; disp = 'E14.7'\n",
       "    name = 'CADENCENO'; format = 'J'; disp = 'I10'\n",
       "    name = 'SAP_FLUX'; format = 'E'; unit = 'e-/s'; disp = 'E14.7'\n",
       "    name = 'SAP_FLUX_ERR'; format = 'E'; unit = 'e-/s'; disp = 'E14.7'\n",
       "    name = 'SAP_BKG'; format = 'E'; unit = 'e-/s'; disp = 'E14.7'\n",
       "    name = 'SAP_BKG_ERR'; format = 'E'; unit = 'e-/s'; disp = 'E14.7'\n",
       "    name = 'PDCSAP_FLUX'; format = 'E'; unit = 'e-/s'; disp = 'E14.7'\n",
       "    name = 'PDCSAP_FLUX_ERR'; format = 'E'; unit = 'e-/s'; disp = 'E14.7'\n",
       "    name = 'QUALITY'; format = 'J'; disp = 'B16.16'\n",
       "    name = 'PSF_CENTR1'; format = 'D'; unit = 'pixel'; disp = 'F10.5'\n",
       "    name = 'PSF_CENTR1_ERR'; format = 'E'; unit = 'pixel'; disp = 'E14.7'\n",
       "    name = 'PSF_CENTR2'; format = 'D'; unit = 'pixel'; disp = 'F10.5'\n",
       "    name = 'PSF_CENTR2_ERR'; format = 'E'; unit = 'pixel'; disp = 'E14.7'\n",
       "    name = 'MOM_CENTR1'; format = 'D'; unit = 'pixel'; disp = 'F10.5'\n",
       "    name = 'MOM_CENTR1_ERR'; format = 'E'; unit = 'pixel'; disp = 'E14.7'\n",
       "    name = 'MOM_CENTR2'; format = 'D'; unit = 'pixel'; disp = 'F10.5'\n",
       "    name = 'MOM_CENTR2_ERR'; format = 'E'; unit = 'pixel'; disp = 'E14.7'\n",
       "    name = 'POS_CORR1'; format = 'E'; unit = 'pixels'; disp = 'E14.7'\n",
       "    name = 'POS_CORR2'; format = 'E'; unit = 'pixels'; disp = 'E14.7'\n",
       ")"
      ]
     },
     "execution_count": 24,
     "metadata": {},
     "output_type": "execute_result"
    }
   ],
   "source": [
    "hdul_lc[1].columns"
   ]
  },
  {
   "cell_type": "markdown",
   "metadata": {},
   "source": [
    "## Exercise\n",
    "\n",
    "To unlock your clue for this challenge, you'll need to use the workflow described in this notebook to query for observations and fetch product files, and locate data on the cloud.\n",
    "\n",
    "First, write a query that satisfies the following criteria:\n",
    "- Cone search around the M11 object with a radius of 0.2 degrees.\n",
    "- Image observations intended for science.\n",
    "- Wavelength region is \"OPTICAL\" or \"INFRARED\".\n",
    "- Observation description (title) contains the word \"survey\".\n",
    "- Observation exposure time is between 785 and 794 seconds."
   ]
  },
  {
   "cell_type": "markdown",
   "metadata": {},
   "source": [
    "## Additional Resources\n",
    "\n",
    "- FILL IN\n",
    "\n",
    "## About this Notebook:\n",
    "If you have comments or questions on this notebook, please open a [GitHub issue on tike_content](https://github.com/spacetelescope/tike_content/issues/new) contact us through the [Archive Help Desk e-mail](mailto:archive@stsci.edu).\n",
    "\n",
    "**Author:** Sam Bianco\n",
    "\n",
    "**Last Updated:** September 2025\n",
    "\n",
    "---\n",
    "\n",
    "[Top of Page](#top)\n",
    "\n",
    "<img style=float:right; src=\"https://raw.githubusercontent.com/spacetelescope/notebooks/master/assets/stsci_pri_combo_mark_horizonal_white_bkgd.png\" alt=\"Space Telescope Logo\" width=\"200px\"/>"
   ]
  },
  {
   "cell_type": "code",
   "execution_count": 7,
   "metadata": {},
   "outputs": [
    {
     "name": "stdout",
     "output_type": "stream",
     "text": [
      "INFO: Using the S3 STScI public dataset [astroquery.mast.cloud]\n"
     ]
    },
    {
     "data": {
      "text/plain": [
       "['s3://stpubdata/tess/public/tid/s0027/0000/0004/4142/0236/tess2020186164531-s0027-0000000441420236-0189-s_lc.fits',\n",
       " 's3://stpubdata/tess/public/tid/s0027/0000/0004/4142/0236/tess2020186164531-s0027-0000000441420236-0189-s_tp.fits',\n",
       " 's3://stpubdata/tess/public/tid/s0027/0000/0004/4141/8475/tess2020186164531-s0027-0000000441418475-0189-s_lc.fits',\n",
       " 's3://stpubdata/tess/public/tid/s0027/0000/0004/4141/8475/tess2020186164531-s0027-0000000441418475-0189-s_tp.fits',\n",
       " 's3://stpubdata/tess/public/tid/s0001/0000/0004/4142/0236/tess2018206045859-s0001-0000000441420236-0120-s_lc.fits',\n",
       " 's3://stpubdata/tess/public/tid/s0001/0000/0004/4142/0236/tess2018206045859-s0001-0000000441420236-0120-s_tp.fits',\n",
       " 's3://stpubdata/tess/public/tid/s0095/0000/0004/4141/8475/tess2025206162959-s0095-0000000441418475-0292-s_lc.fits',\n",
       " 's3://stpubdata/tess/public/tid/s0095/0000/0004/4141/8475/tess2025206162959-s0095-0000000441418475-0292-s_tp.fits',\n",
       " 's3://stpubdata/tess/public/tid/s0095/0000/0004/4142/0236/tess2025206162959-s0095-0000000441420236-0292-s_lc.fits',\n",
       " 's3://stpubdata/tess/public/tid/s0095/0000/0004/4142/0236/tess2025206162959-s0095-0000000441420236-0292-s_tp.fits']"
      ]
     },
     "execution_count": 7,
     "metadata": {},
     "output_type": "execute_result"
    }
   ],
   "source": [
    "Observations.enable_cloud_dataset()\n",
    "Observations.get_cloud_uris(filtered)"
   ]
  }
 ],
 "metadata": {
  "kernelspec": {
   "display_name": "Python 3",
   "language": "python",
   "name": "python3"
  },
  "language_info": {
   "codemirror_mode": {
    "name": "ipython",
    "version": 3
   },
   "file_extension": ".py",
   "mimetype": "text/x-python",
   "name": "python",
   "nbconvert_exporter": "python",
   "pygments_lexer": "ipython3",
   "version": "3.11.9"
  }
 },
 "nbformat": 4,
 "nbformat_minor": 4
}
