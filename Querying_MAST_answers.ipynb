{
 "cells": [
  {
   "cell_type": "markdown",
   "metadata": {},
   "source": [
    "# Querying for TESS Data in MAST with Astroquery\n",
    "\n",
    "---\n",
    "\n",
    "## Learning Goals\n",
    "\n",
    "- Use `astroquery.mast` to search for observations across mission collections by coordinates, object name, and other criteria.\n",
    "- Fetch and filter the data products associated with observations.\n",
    "- Locate and access data products on the cloud.\n",
    "\n",
    "## Table of Contents\n",
    "\n",
    "- [Introduction](#Introduction)\n",
    "- [What is Astroquery?](#What-is-Astroquery?)\n",
    "- [Imports and Setup](#Imports-and-Setup)\n",
    "- [Querying for MAST Observations](#Querying-for-MAST-Observations)\n",
    "  - [Query for Observations](#Step-1.-Query-for-Observations)\n",
    "  - [Fetch and Filter Product Files](#Step-2.-Fetch-and-Filter-Data-Products)\n",
    "  - [Access Data on the Cloud](#Step-3.-Access-Data-on-the-Cloud)\n",
    "  - [Streamlined Query](#Streamlined-Query)\n",
    "- [Exercise](#Exercise)\n",
    "\n",
    "## Introduction\n",
    "\n",
    "Dr. Nefarious, an evil mastermind and lover of jazz, has scrambled the index to the MAST Archive! Without it, astronomers can't locate critical datasets, and the longer is stays scrambled, the closer he gets to wiping the archive forever. Your next objective is clear: restore access to the Archive's data using powerful querying tools.\n",
    "Your goal is to track down the exact files needed to uncover Dr. Nefarious’s next move and send him running back to his data void.\n",
    "\n",
    "Let’s bring the Archive back online. Query away, agent.\n",
    "\n",
    "In this tutorial, we will learn how to search for, filter, and access TESS data on the cloud with the ``astroquery.mast`` module.\n",
    "\n",
    "## What is Astroquery?\n",
    "\n",
    "The [`astroquery`](https://astroquery.readthedocs.io/en/latest/) package is an astronomer-friendly way to programatically query online astronomical data sources. There are many modules, each of which is designed to access different datasets. The [`astroquery.mast`](https://astroquery.readthedocs.io/en/latest/mast/mast.html) module can be used to query the [MAST Archive](https://archive.stsci.edu/)."
   ]
  },
  {
   "cell_type": "markdown",
   "metadata": {},
   "source": [
    "## Imports and Setup\n",
    "\n",
    "We will import the following packages:\n",
    "- `astropy` to handle units and coordinates\n",
    "- `astroquery.mast` to search for and select data"
   ]
  },
  {
   "cell_type": "code",
   "execution_count": 1,
   "metadata": {},
   "outputs": [],
   "source": [
    "import astropy.units as u\n",
    "from astropy.coordinates import SkyCoord\n",
    "from astropy.time import Time\n",
    "from astroquery.mast import Observations"
   ]
  },
  {
   "cell_type": "markdown",
   "metadata": {},
   "source": [
    "We will also enable cloud data access in `astroquery.mast`. This will allow us to fetch the cloud URIs for data products and access files directly without downloading them."
   ]
  },
  {
   "cell_type": "code",
   "execution_count": 2,
   "metadata": {},
   "outputs": [
    {
     "name": "stdout",
     "output_type": "stream",
     "text": [
      "INFO: Using the S3 STScI public dataset [astroquery.mast.cloud]\n"
     ]
    }
   ],
   "source": [
    "Observations.enable_cloud_dataset()"
   ]
  },
  {
   "cell_type": "markdown",
   "metadata": {},
   "source": [
    "## Querying for MAST Observations\n",
    "\n",
    "In this section, we will use the following workflow to access TESS data:\n",
    "\n",
    "1. Query for TESS observations in MAST using metadata criteria.\n",
    "2. Fetch and filter the product files associated with each observation.\n",
    "3. Access the data directly by fetching the location of each product file in S3 cloud storage."
   ]
  },
  {
   "cell_type": "markdown",
   "metadata": {},
   "source": [
    "### Step 1. Query for Observations\n",
    "\n",
    "The [`astroquery.mast.Observations`](https://astroquery.readthedocs.io/en/latest/mast/mast_obsquery.html) class allows direct programmatic access to the [MAST Portal](https://mast.stsci.edu/portal/Mashup/Clients/Mast/Portal.html) and is used to query MAST observational data.\n",
    "\n",
    "Metadata queries can be done with three different functions:\n",
    "- `query_region()`: Performs a cone search given target coordinates and a radius (default = 0.2 degrees)\n",
    "- `query_object()`: Performs a cone search around an object by resolving the name of the object to coordinates.\n",
    "- `query_criteria()`: Returns a list of observations that meet a given set of criteria. \n",
    "\n",
    "`query_criteria()` is the most versatile function of the three, so we will be using this to query for TESS observations. You can still search by `coordinates` or `objectname`, but you can also query by additional desired criteria. Keep in mind, however, that at least one non-positional criterion must be supplied to `query_criteria()`. Otherwise, you should use one of the other query functions.\n",
    "\n",
    "To perform a search with `query_criteria()`, provide your criteria as keyword arguments. Valid criteria and their descriptions are provided as [CAOM Field Descriptions](https://mast.stsci.edu/api/v0/_c_a_o_mfields.html), or you can use the `get_metadata()` function:"
   ]
  },
  {
   "cell_type": "code",
   "execution_count": 3,
   "metadata": {},
   "outputs": [
    {
     "data": {
      "text/html": [
       "<div><i>Table length=34</i>\n",
       "<table id=\"table4962147344\" class=\"table-striped table-bordered table-condensed\">\n",
       "<thead><tr><th>Column Name</th><th>Column Label</th><th>Data Type</th><th>Units</th><th>Description</th><th>Examples/Valid Values</th></tr></thead>\n",
       "<thead><tr><th>str21</th><th>str25</th><th>str7</th><th>str10</th><th>str72</th><th>str116</th></tr></thead>\n",
       "<tr><td>intentType</td><td>Observation Type</td><td>string</td><td></td><td>Whether observation is for science or calibration.</td><td>Valid values: science, calibration</td></tr>\n",
       "<tr><td>obs_collection</td><td>Mission</td><td>string</td><td></td><td>Collection</td><td>E.g. SWIFT, PS1, HST, IUE</td></tr>\n",
       "<tr><td>provenance_name</td><td>Provenance Name</td><td>string</td><td></td><td>Provenance name, or source of data</td><td>E.g. TASOC, CALSTIS, PS1</td></tr>\n",
       "<tr><td>instrument_name</td><td>Instrument</td><td>string</td><td></td><td>Instrument Name</td><td>E.g. WFPC2/WFC, UVOT, STIS/CCD</td></tr>\n",
       "<tr><td>project</td><td>Project</td><td>string</td><td></td><td>Processing project</td><td>E.g. HST, HLA, EUVE, hlsp_legus</td></tr>\n",
       "<tr><td>filters</td><td>Filters</td><td>string</td><td></td><td>Instrument filters</td><td>F469N, NUV, FUV, LOW DISP, MIRROR</td></tr>\n",
       "<tr><td>wavelength_region</td><td>Waveband</td><td>string</td><td></td><td>Energy Band</td><td>EUV, XRAY, OPTICAL</td></tr>\n",
       "<tr><td>target_name</td><td>Target Name</td><td>string</td><td></td><td>Target Name</td><td>Ex. COMET-67P-CHURYUMOV-GER-UPDATE</td></tr>\n",
       "<tr><td>target_classification</td><td>Target Classification</td><td>string</td><td></td><td>Type of target</td><td>Ex. COMET;COMET BEING ORBITED BY THE ROSETTA SPACECRAFT;SOLAR SYSTEM</td></tr>\n",
       "<tr><td>...</td><td>...</td><td>...</td><td>...</td><td>...</td><td>...</td></tr>\n",
       "<tr><td>s_region</td><td>s_region</td><td>string</td><td>ICRS Shape</td><td>STC/S Footprint</td><td>Will be ICRS circle or polygon. E.g. CIRCLE ICRS 17.71740689 -58.40043015 0.625</td></tr>\n",
       "<tr><td>jpegURL</td><td>jpegURL</td><td>string</td><td></td><td>Preview Image URL</td><td>https://archive.stsci.edu/hst/previews/N4QF/N4QF18090.jpg</td></tr>\n",
       "<tr><td>distance</td><td>Distance (&quot;)</td><td>float</td><td>arcsec</td><td>Angular separation between searched coordinates and center of obsevation</td><td></td></tr>\n",
       "<tr><td>obsid</td><td>Product Group ID</td><td>integer</td><td></td><td>Database identifier for obs_id</td><td>Long integer, e.g. 2007590987</td></tr>\n",
       "<tr><td>dataRights</td><td>Data Rights</td><td>string</td><td></td><td>Data Rights</td><td>valid values: public,exclusive_access,restricted</td></tr>\n",
       "<tr><td>mtFlag</td><td>Moving Target</td><td>boolean</td><td></td><td>Moving Target Flag</td><td>If True, observation contains a moving target, if False or absent observation may or may not contain a moving target</td></tr>\n",
       "<tr><td>srcDen</td><td>Number of Catalog Objects</td><td>float</td><td></td><td>Number of cataloged objects found in observation</td><td></td></tr>\n",
       "<tr><td>dataURL</td><td>Data URL</td><td>string</td><td></td><td>Data URL</td><td></td></tr>\n",
       "<tr><td>proposal_type</td><td>Proposal Type</td><td>string</td><td></td><td>Type of telescope proposal</td><td>Eg. 3PI, GO, GO/DD, HLA, GII, AIS</td></tr>\n",
       "<tr><td>sequence_number</td><td>Sequence Number</td><td>integer</td><td></td><td>Sequence number, e.g. Kepler quarter or TESS sector</td><td></td></tr>\n",
       "</table></div>"
      ],
      "text/plain": [
       "<Table length=34>\n",
       "     Column Name      ...\n",
       "        str21         ...\n",
       "--------------------- ...\n",
       "           intentType ...\n",
       "       obs_collection ...\n",
       "      provenance_name ...\n",
       "      instrument_name ...\n",
       "              project ...\n",
       "              filters ...\n",
       "    wavelength_region ...\n",
       "          target_name ...\n",
       "target_classification ...\n",
       "                  ... ...\n",
       "             s_region ...\n",
       "              jpegURL ...\n",
       "             distance ...\n",
       "                obsid ...\n",
       "           dataRights ...\n",
       "               mtFlag ...\n",
       "               srcDen ...\n",
       "              dataURL ...\n",
       "        proposal_type ...\n",
       "      sequence_number ..."
      ]
     },
     "execution_count": 3,
     "metadata": {},
     "output_type": "execute_result"
    }
   ],
   "source": [
    "Observations.get_metadata('observations')"
   ]
  },
  {
   "cell_type": "markdown",
   "metadata": {},
   "source": [
    "#### Region Search\n",
    "\n",
    "First, let's write a query to search for TESS observations in a certain region of the sky. We will pass in a set of coordinates and a radius in arcminutes to the `query_criteria` function. If no radius is specified, the default value is 0.2 degrees.\n",
    "\n",
    "To return only observations from the TESS mission, we will set the keyword `obs_collection` to equal `'TESS'`. We will also select for timeseries observations by setting the keyword `dataproduct_type` to `'timeseries'`. We will search for observations in a circular region around the coordinates, with a radius of 1 arcsecond."
   ]
  },
  {
   "cell_type": "code",
   "execution_count": 4,
   "metadata": {},
   "outputs": [
    {
     "data": {
      "text/html": [
       "<div><i>Table masked=True length=3</i>\n",
       "<table id=\"table4962265872\" class=\"table-striped table-bordered table-condensed\">\n",
       "<thead><tr><th>intentType</th><th>obs_collection</th><th>provenance_name</th><th>instrument_name</th><th>project</th><th>filters</th><th>wavelength_region</th><th>target_name</th><th>target_classification</th><th>obs_id</th><th>s_ra</th><th>s_dec</th><th>dataproduct_type</th><th>proposal_pi</th><th>calib_level</th><th>t_min</th><th>t_max</th><th>t_exptime</th><th>em_min</th><th>em_max</th><th>obs_title</th><th>t_obs_release</th><th>proposal_id</th><th>proposal_type</th><th>sequence_number</th><th>s_region</th><th>jpegURL</th><th>dataURL</th><th>dataRights</th><th>mtFlag</th><th>srcDen</th><th>obsid</th><th>objID</th><th>objID1</th><th>distance</th></tr></thead>\n",
       "<thead><tr><th>str7</th><th>str4</th><th>str4</th><th>str10</th><th>str4</th><th>str4</th><th>str7</th><th>str8</th><th>str1</th><th>str47</th><th>float64</th><th>float64</th><th>str10</th><th>str14</th><th>int64</th><th>float64</th><th>float64</th><th>float64</th><th>float64</th><th>float64</th><th>str1</th><th>float64</th><th>str15</th><th>str1</th><th>int64</th><th>str48</th><th>str1</th><th>str73</th><th>str6</th><th>bool</th><th>float64</th><th>str9</th><th>str9</th><th>str9</th><th>float64</th></tr></thead>\n",
       "<tr><td>science</td><td>TESS</td><td>SPOC</td><td>Photometer</td><td>TESS</td><td>TESS</td><td>Optical</td><td>47552789</td><td>--</td><td>tess2023237165326-s0069-0000000047552789-0264-s</td><td>344.412715</td><td>-29.622122</td><td>timeseries</td><td>Ricker, George</td><td>2</td><td>60181.85297435185</td><td>60207.64276787037</td><td>120.0</td><td>600.0</td><td>1000.0</td><td>--</td><td>60228.0</td><td>G05109</td><td>--</td><td>69</td><td>CIRCLE 344.412715 -29.622122 0.00138889</td><td>--</td><td>mast:TESS/product/tess2023237165326-s0069-0000000047552789-0264-s_tp.fits</td><td>PUBLIC</td><td>False</td><td>nan</td><td>182728641</td><td>327920355</td><td>327920355</td><td>0.0</td></tr>\n",
       "<tr><td>science</td><td>TESS</td><td>SPOC</td><td>Photometer</td><td>TESS</td><td>TESS</td><td>Optical</td><td>47552789</td><td>--</td><td>tess2018234235059-s0002-0000000047552789-0121-s</td><td>344.412715</td><td>-29.622122</td><td>timeseries</td><td>Ricker, George</td><td>2</td><td>58353.60657761574</td><td>58381.018611354164</td><td>120.0</td><td>600.0</td><td>1000.0</td><td>--</td><td>58458.5833333</td><td>G011155_G011176</td><td>--</td><td>2</td><td>CIRCLE 344.412715 -29.622122 0.00138889</td><td>--</td><td>mast:TESS/product/tess2018234235059-s0002-0000000047552789-0121-s_tp.fits</td><td>PUBLIC</td><td>False</td><td>nan</td><td>60882676</td><td>109924653</td><td>109924653</td><td>0.0</td></tr>\n",
       "<tr><td>science</td><td>TESS</td><td>SPOC</td><td>Photometer</td><td>TESS</td><td>TESS</td><td>Optical</td><td>47552789</td><td>--</td><td>tess2020238165205-s0029-0000000047552789-0193-s</td><td>344.412715</td><td>-29.622122</td><td>timeseries</td><td>Ricker, George</td><td>2</td><td>59087.73818816</td><td>59113.93761584</td><td>120.0</td><td>600.0</td><td>1000.0</td><td>--</td><td>59158.0</td><td>G03156</td><td>--</td><td>29</td><td>CIRCLE ICRS 344.41271500 -29.62212200 0.00138889</td><td>--</td><td>mast:TESS/product/tess2020238165205-s0029-0000000047552789-0193-s_tp.fits</td><td>PUBLIC</td><td>False</td><td>nan</td><td>27914689</td><td>71406948</td><td>71406948</td><td>0.0</td></tr>\n",
       "</table></div>"
      ],
      "text/plain": [
       "<Table masked=True length=3>\n",
       "intentType obs_collection provenance_name ...   objID     objID1  distance\n",
       "   str7         str4            str4      ...    str9      str9   float64 \n",
       "---------- -------------- --------------- ... --------- --------- --------\n",
       "   science           TESS            SPOC ... 327920355 327920355      0.0\n",
       "   science           TESS            SPOC ... 109924653 109924653      0.0\n",
       "   science           TESS            SPOC ...  71406948  71406948      0.0"
      ]
     },
     "execution_count": 4,
     "metadata": {},
     "output_type": "execute_result"
    }
   ],
   "source": [
    "# Query for TESS observations around a coordinate\n",
    "coordinates = SkyCoord('22h57m39.04625s -29d37m20.0533s')\n",
    "obs = Observations.query_criteria(coordinates=coordinates,\n",
    "                                  radius='1 arcsec', \n",
    "                                  obs_collection='TESS',\n",
    "                                  dataproduct_type='timeseries')\n",
    "obs"
   ]
  },
  {
   "cell_type": "markdown",
   "metadata": {},
   "source": [
    "The results are returned as an `astropy.Table` object. From here, you can view the table and its structure, access data, modify data, perform filtering, sort by a column, and more."
   ]
  },
  {
   "cell_type": "markdown",
   "metadata": {},
   "source": [
    "#### Object Search\n",
    "\n",
    "We can query for observations around a certain object using the `objectname` keyword argument. We will query for observations around [Fomalhaut](https://www.stsci.edu/contents/media/images/2013/01/3130-Image?news=true), the brightest star in the southern constellation of [Piscis Austrinus](https://www.stsci.edu/contents/media/images/2005/10/1666-Image?client=ctns&news=true). We will set the search radius to 1 arcsecond, and we will limit our results to TESS timeseries observations."
   ]
  },
  {
   "cell_type": "code",
   "execution_count": 5,
   "metadata": {},
   "outputs": [
    {
     "data": {
      "text/html": [
       "<div><i>Table masked=True length=3</i>\n",
       "<table id=\"table4962674960\" class=\"table-striped table-bordered table-condensed\">\n",
       "<thead><tr><th>intentType</th><th>obs_collection</th><th>provenance_name</th><th>instrument_name</th><th>project</th><th>filters</th><th>wavelength_region</th><th>target_name</th><th>target_classification</th><th>obs_id</th><th>s_ra</th><th>s_dec</th><th>dataproduct_type</th><th>proposal_pi</th><th>calib_level</th><th>t_min</th><th>t_max</th><th>t_exptime</th><th>em_min</th><th>em_max</th><th>obs_title</th><th>t_obs_release</th><th>proposal_id</th><th>proposal_type</th><th>sequence_number</th><th>s_region</th><th>jpegURL</th><th>dataURL</th><th>dataRights</th><th>mtFlag</th><th>srcDen</th><th>obsid</th><th>objID</th><th>objID1</th><th>distance</th></tr></thead>\n",
       "<thead><tr><th>str7</th><th>str4</th><th>str4</th><th>str10</th><th>str4</th><th>str4</th><th>str7</th><th>str8</th><th>str1</th><th>str47</th><th>float64</th><th>float64</th><th>str10</th><th>str14</th><th>int64</th><th>float64</th><th>float64</th><th>float64</th><th>float64</th><th>float64</th><th>str1</th><th>float64</th><th>str15</th><th>str1</th><th>int64</th><th>str48</th><th>str1</th><th>str73</th><th>str6</th><th>bool</th><th>float64</th><th>str9</th><th>str9</th><th>str9</th><th>float64</th></tr></thead>\n",
       "<tr><td>science</td><td>TESS</td><td>SPOC</td><td>Photometer</td><td>TESS</td><td>TESS</td><td>Optical</td><td>47552789</td><td>--</td><td>tess2023237165326-s0069-0000000047552789-0264-s</td><td>344.412715</td><td>-29.622122</td><td>timeseries</td><td>Ricker, George</td><td>2</td><td>60181.85297435185</td><td>60207.64276787037</td><td>120.0</td><td>600.0</td><td>1000.0</td><td>--</td><td>60228.0</td><td>G05109</td><td>--</td><td>69</td><td>CIRCLE 344.412715 -29.622122 0.00138889</td><td>--</td><td>mast:TESS/product/tess2023237165326-s0069-0000000047552789-0264-s_tp.fits</td><td>PUBLIC</td><td>False</td><td>nan</td><td>182728641</td><td>327920355</td><td>327920355</td><td>0.0</td></tr>\n",
       "<tr><td>science</td><td>TESS</td><td>SPOC</td><td>Photometer</td><td>TESS</td><td>TESS</td><td>Optical</td><td>47552789</td><td>--</td><td>tess2020238165205-s0029-0000000047552789-0193-s</td><td>344.412715</td><td>-29.622122</td><td>timeseries</td><td>Ricker, George</td><td>2</td><td>59087.73818816</td><td>59113.93761584</td><td>120.0</td><td>600.0</td><td>1000.0</td><td>--</td><td>59158.0</td><td>G03156</td><td>--</td><td>29</td><td>CIRCLE ICRS 344.41271500 -29.62212200 0.00138889</td><td>--</td><td>mast:TESS/product/tess2020238165205-s0029-0000000047552789-0193-s_tp.fits</td><td>PUBLIC</td><td>False</td><td>nan</td><td>27914689</td><td>71406948</td><td>71406948</td><td>0.0</td></tr>\n",
       "<tr><td>science</td><td>TESS</td><td>SPOC</td><td>Photometer</td><td>TESS</td><td>TESS</td><td>Optical</td><td>47552789</td><td>--</td><td>tess2018234235059-s0002-0000000047552789-0121-s</td><td>344.412715</td><td>-29.622122</td><td>timeseries</td><td>Ricker, George</td><td>2</td><td>58353.60657761574</td><td>58381.018611354164</td><td>120.0</td><td>600.0</td><td>1000.0</td><td>--</td><td>58458.5833333</td><td>G011155_G011176</td><td>--</td><td>2</td><td>CIRCLE 344.412715 -29.622122 0.00138889</td><td>--</td><td>mast:TESS/product/tess2018234235059-s0002-0000000047552789-0121-s_tp.fits</td><td>PUBLIC</td><td>False</td><td>nan</td><td>60882676</td><td>109924653</td><td>109924653</td><td>0.0</td></tr>\n",
       "</table></div>"
      ],
      "text/plain": [
       "<Table masked=True length=3>\n",
       "intentType obs_collection provenance_name ...   objID     objID1  distance\n",
       "   str7         str4            str4      ...    str9      str9   float64 \n",
       "---------- -------------- --------------- ... --------- --------- --------\n",
       "   science           TESS            SPOC ... 327920355 327920355      0.0\n",
       "   science           TESS            SPOC ...  71406948  71406948      0.0\n",
       "   science           TESS            SPOC ... 109924653 109924653      0.0"
      ]
     },
     "execution_count": 5,
     "metadata": {},
     "output_type": "execute_result"
    }
   ],
   "source": [
    "obs = Observations.query_criteria(objectname='Fomalhaut',\n",
    "                                  radius=\"1 second\",\n",
    "                                  obs_collection=\"TESS\",\n",
    "                                  dataproduct_type=\"timeseries\")\n",
    "obs "
   ]
  },
  {
   "cell_type": "markdown",
   "metadata": {},
   "source": [
    "#### Other Tips and Tricks\n",
    "\n",
    "`query_criteria()` is a powerful function, and there are some neat tricks you can use to perform more advanced queries.\n",
    "\n",
    "##### Value Range Search\n",
    "\n",
    "To query on fields that have a float data type, the keyword argument value should be in the form [minVal, maxVal]. Let's perform a rectangular region search of TESS timeseries observations by providing a range of values to the `s_ra` and `s_dec` keywords."
   ]
  },
  {
   "cell_type": "code",
   "execution_count": 6,
   "metadata": {},
   "outputs": [
    {
     "data": {
      "text/html": [
       "<div><i>Table masked=True length=4</i>\n",
       "<table id=\"table4962859280\" class=\"table-striped table-bordered table-condensed\">\n",
       "<thead><tr><th>intentType</th><th>obs_collection</th><th>provenance_name</th><th>instrument_name</th><th>project</th><th>filters</th><th>wavelength_region</th><th>target_name</th><th>target_classification</th><th>obs_id</th><th>s_ra</th><th>s_dec</th><th>dataproduct_type</th><th>proposal_pi</th><th>calib_level</th><th>t_min</th><th>t_max</th><th>t_exptime</th><th>em_min</th><th>em_max</th><th>obs_title</th><th>t_obs_release</th><th>proposal_id</th><th>proposal_type</th><th>sequence_number</th><th>s_region</th><th>jpegURL</th><th>dataURL</th><th>dataRights</th><th>mtFlag</th><th>srcDen</th><th>obsid</th><th>objID</th></tr></thead>\n",
       "<thead><tr><th>str7</th><th>str4</th><th>str4</th><th>str10</th><th>str4</th><th>str4</th><th>str7</th><th>str9</th><th>str1</th><th>str47</th><th>float64</th><th>float64</th><th>str10</th><th>str14</th><th>int64</th><th>float64</th><th>float64</th><th>float64</th><th>float64</th><th>float64</th><th>str1</th><th>float64</th><th>str6</th><th>str1</th><th>int64</th><th>str42</th><th>str1</th><th>str79</th><th>str6</th><th>bool</th><th>float64</th><th>str9</th><th>str9</th></tr></thead>\n",
       "<tr><td>science</td><td>TESS</td><td>SPOC</td><td>Photometer</td><td>TESS</td><td>TESS</td><td>Optical</td><td>257663938</td><td>--</td><td>tess2024223182411-s0082-0000000257663938-0278-s</td><td>320.058651348005</td><td>22.0261780810693</td><td>timeseries</td><td>Ricker, George</td><td>3</td><td>60532.89604957176</td><td>60558.75017854167</td><td>120.0</td><td>600.0</td><td>1000.0</td><td>--</td><td>60613.0</td><td>N/A</td><td>--</td><td>82</td><td>CIRCLE 320.05865135 22.02617808 0.00138889</td><td>--</td><td>mast:TESS/product/tess2024223182411-s0082-0000000257663938-0278-s_lc.fits</td><td>PUBLIC</td><td>False</td><td>nan</td><td>232644100</td><td>644501464</td></tr>\n",
       "<tr><td>science</td><td>TESS</td><td>SPOC</td><td>Photometer</td><td>TESS</td><td>TESS</td><td>Optical</td><td>257663938</td><td>--</td><td>tess2019199201929-s0014-s0086-0000000257663938</td><td>320.058651348005</td><td>22.0261780810693</td><td>timeseries</td><td>Ricker, George</td><td>3</td><td>59796.59809620371</td><td>60558.7446230787</td><td>120.0</td><td>600.0</td><td>1000.0</td><td>--</td><td>60803.0</td><td>N/A</td><td>--</td><td>86</td><td>CIRCLE 320.05865135 22.02617808 0.00138889</td><td>--</td><td>mast:TESS/product/tess2019199201929-s0014-s0086-0000000257663938-00971_dvt.fits</td><td>PUBLIC</td><td>False</td><td>nan</td><td>262992674</td><td>794172356</td></tr>\n",
       "<tr><td>science</td><td>TESS</td><td>SPOC</td><td>Photometer</td><td>TESS</td><td>TESS</td><td>Optical</td><td>257663938</td><td>--</td><td>tess2022217014003-s0055-0000000257663938-0242-s</td><td>320.058651348005</td><td>22.0261780810693</td><td>timeseries</td><td>Ricker, George</td><td>3</td><td>59796.60365189815</td><td>59823.76768655093</td><td>120.0</td><td>600.0</td><td>1000.0</td><td>--</td><td>59841.0</td><td>G04060</td><td>--</td><td>55</td><td>CIRCLE 320.05865135 22.02617808 0.00138889</td><td>--</td><td>mast:TESS/product/tess2022217014003-s0055-0000000257663938-0242-s_lc.fits</td><td>PUBLIC</td><td>False</td><td>nan</td><td>93782447</td><td>809360542</td></tr>\n",
       "<tr><td>science</td><td>TESS</td><td>SPOC</td><td>Photometer</td><td>TESS</td><td>TESS</td><td>Optical</td><td>257747309</td><td>--</td><td>tess2022217014003-s0055-0000000257747309-0242-s</td><td>320.213597122501</td><td>22.122120081783</td><td>timeseries</td><td>Ricker, George</td><td>3</td><td>59796.60364451389</td><td>59823.76768686342</td><td>120.0</td><td>600.0</td><td>1000.0</td><td>--</td><td>59841.0</td><td>N/A</td><td>--</td><td>55</td><td>CIRCLE 320.21359712 22.12212008 0.00138889</td><td>--</td><td>mast:TESS/product/tess2022217014003-s0055-0000000257747309-0242-s_lc.fits</td><td>PUBLIC</td><td>False</td><td>nan</td><td>93782457</td><td>809360623</td></tr>\n",
       "</table></div>"
      ],
      "text/plain": [
       "<Table masked=True length=4>\n",
       "intentType obs_collection provenance_name ...  srcDen   obsid     objID  \n",
       "   str7         str4            str4      ... float64    str9      str9  \n",
       "---------- -------------- --------------- ... ------- --------- ---------\n",
       "   science           TESS            SPOC ...     nan 232644100 644501464\n",
       "   science           TESS            SPOC ...     nan 262992674 794172356\n",
       "   science           TESS            SPOC ...     nan  93782447 809360542\n",
       "   science           TESS            SPOC ...     nan  93782457 809360623"
      ]
     },
     "execution_count": 6,
     "metadata": {},
     "output_type": "execute_result"
    }
   ],
   "source": [
    "# Perform a rectangular region search\n",
    "ra_range = 320, 320.5\n",
    "dec_range = 22, 22.2\n",
    "obs = Observations.query_criteria(obs_collection='TESS',\n",
    "                                  dataproduct_type='timeseries',\n",
    "                                  s_ra=[ra_range[0], ra_range[1]],\n",
    "                                  s_dec=[dec_range[0], dec_range[1]])\n",
    "obs"
   ]
  },
  {
   "cell_type": "markdown",
   "metadata": {},
   "source": [
    "We can also use ranges to query on time-based keywords, prefixed by `t_`. The `astropy.Time` module can be used to convert dates into Modified Julian Date (MJD) format. \n",
    "\n",
    "Let's query for TESS timeseries observations for the target `375422201` in the [TESS Input Catalog (TIC)](https://tess.mit.edu/science/tess-input-catalogue/). We'll also provide a range of values to the `t_obs_release` keyword to return only observations that were released after August 1st, 2024."
   ]
  },
  {
   "cell_type": "code",
   "execution_count": 7,
   "metadata": {},
   "outputs": [
    {
     "name": "stdout",
     "output_type": "stream",
     "text": [
      "Number of Observations: 3\n"
     ]
    },
    {
     "data": {
      "text/html": [
       "<div><i>Table masked=True length=3</i>\n",
       "<table id=\"table4962848912\" class=\"table-striped table-bordered table-condensed\">\n",
       "<thead><tr><th>intentType</th><th>obs_collection</th><th>provenance_name</th><th>instrument_name</th><th>project</th><th>filters</th><th>wavelength_region</th><th>target_name</th><th>target_classification</th><th>obs_id</th><th>s_ra</th><th>s_dec</th><th>dataproduct_type</th><th>proposal_pi</th><th>calib_level</th><th>t_min</th><th>t_max</th><th>t_exptime</th><th>em_min</th><th>em_max</th><th>obs_title</th><th>t_obs_release</th><th>proposal_id</th><th>proposal_type</th><th>sequence_number</th><th>s_region</th><th>jpegURL</th><th>dataURL</th><th>dataRights</th><th>mtFlag</th><th>srcDen</th><th>obsid</th><th>objID</th></tr></thead>\n",
       "<thead><tr><th>str7</th><th>str4</th><th>str4</th><th>str10</th><th>str4</th><th>str4</th><th>str7</th><th>str9</th><th>str1</th><th>str47</th><th>float64</th><th>float64</th><th>str10</th><th>str14</th><th>int64</th><th>float64</th><th>float64</th><th>float64</th><th>float64</th><th>float64</th><th>str1</th><th>float64</th><th>str6</th><th>str1</th><th>int64</th><th>str42</th><th>str1</th><th>str79</th><th>str6</th><th>bool</th><th>float64</th><th>str9</th><th>str9</th></tr></thead>\n",
       "<tr><td>science</td><td>TESS</td><td>SPOC</td><td>Photometer</td><td>TESS</td><td>TESS</td><td>Optical</td><td>375422201</td><td>--</td><td>tess2024249191853-s0083-0000000375422201-0280-s</td><td>315.882138017318</td><td>59.4306688630694</td><td>timeseries</td><td>Ricker, George</td><td>3</td><td>60558.9281077662</td><td>60583.87680471065</td><td>120.0</td><td>600.0</td><td>1000.0</td><td>--</td><td>60635.0</td><td>G06057</td><td>--</td><td>83</td><td>CIRCLE 315.88213802 59.43066886 0.00138889</td><td>--</td><td>mast:TESS/product/tess2024249191853-s0083-0000000375422201-0280-s_lc.fits</td><td>PUBLIC</td><td>False</td><td>nan</td><td>233054588</td><td>662953215</td></tr>\n",
       "<tr><td>science</td><td>TESS</td><td>SPOC</td><td>Photometer</td><td>TESS</td><td>TESS</td><td>Optical</td><td>375422201</td><td>--</td><td>tess2019199201929-s0014-s0078-0000000375422201</td><td>315.882138017318</td><td>59.4306688630694</td><td>timeseries</td><td>Ricker, George</td><td>3</td><td>58710.85959731481</td><td>60423.04377930555</td><td>120.0</td><td>600.0</td><td>1000.0</td><td>--</td><td>60725.0</td><td>N/A</td><td>--</td><td>78</td><td>CIRCLE 315.88213802 59.43066886 0.00138889</td><td>--</td><td>mast:TESS/product/tess2019199201929-s0014-s0078-0000000375422201-00929_dvt.fits</td><td>PUBLIC</td><td>False</td><td>nan</td><td>242091209</td><td>719083433</td></tr>\n",
       "<tr><td>science</td><td>TESS</td><td>SPOC</td><td>Photometer</td><td>TESS</td><td>TESS</td><td>Optical</td><td>375422201</td><td>--</td><td>tess2019199201929-s0014-s0086-0000000375422201</td><td>315.882138017318</td><td>59.4306688630694</td><td>timeseries</td><td>Ricker, George</td><td>3</td><td>58710.85959731481</td><td>60583.874026944446</td><td>120.0</td><td>600.0</td><td>1000.0</td><td>--</td><td>60803.0</td><td>N/A</td><td>--</td><td>86</td><td>CIRCLE 315.88213802 59.43066886 0.00138889</td><td>--</td><td>mast:TESS/product/tess2019199201929-s0014-s0086-0000000375422201-00971_dvt.fits</td><td>PUBLIC</td><td>False</td><td>nan</td><td>262995585</td><td>794188332</td></tr>\n",
       "</table></div>"
      ],
      "text/plain": [
       "<Table masked=True length=3>\n",
       "intentType obs_collection provenance_name ...  srcDen   obsid     objID  \n",
       "   str7         str4            str4      ... float64    str9      str9  \n",
       "---------- -------------- --------------- ... ------- --------- ---------\n",
       "   science           TESS            SPOC ...     nan 233054588 662953215\n",
       "   science           TESS            SPOC ...     nan 242091209 719083433\n",
       "   science           TESS            SPOC ...     nan 262995585 794188332"
      ]
     },
     "execution_count": 7,
     "metadata": {},
     "output_type": "execute_result"
    }
   ],
   "source": [
    "# Get dates in Modified Julian Date (MJD) format\n",
    "past_time = Time('2024-08-01').mjd\n",
    "curr_time = Time.now().mjd\n",
    "\n",
    "# Query for all observations released since a specific date\n",
    "obs = Observations.query_criteria(target_name=375422201,\n",
    "                                  obs_collection=\"TESS\",\n",
    "                                  dataproduct_type='timeseries',\n",
    "                                  t_obs_release=[past_time, curr_time])\n",
    "print(f'Number of Observations: {len(obs)}')\n",
    "obs[:5]\n",
    "obs"
   ]
  },
  {
   "cell_type": "markdown",
   "metadata": {},
   "source": [
    "##### Multi-Valued Search\n",
    "\n",
    "For non-float criteria, you can pass in more than one value for a keyword by supplying the arguments as a list. The `sequence_number` keyword corresponds to the TESS sector. Below is a query that returns the TESS timeseries observations around TIC ID `375422201` for sectors 15 and 83."
   ]
  },
  {
   "cell_type": "code",
   "execution_count": 8,
   "metadata": {},
   "outputs": [
    {
     "data": {
      "text/html": [
       "<div><i>Table masked=True length=2</i>\n",
       "<table id=\"table4962263376\" class=\"table-striped table-bordered table-condensed\">\n",
       "<thead><tr><th>intentType</th><th>obs_collection</th><th>provenance_name</th><th>instrument_name</th><th>project</th><th>filters</th><th>wavelength_region</th><th>target_name</th><th>target_classification</th><th>obs_id</th><th>s_ra</th><th>s_dec</th><th>dataproduct_type</th><th>proposal_pi</th><th>calib_level</th><th>t_min</th><th>t_max</th><th>t_exptime</th><th>em_min</th><th>em_max</th><th>obs_title</th><th>t_obs_release</th><th>proposal_id</th><th>proposal_type</th><th>sequence_number</th><th>s_region</th><th>jpegURL</th><th>dataURL</th><th>dataRights</th><th>mtFlag</th><th>srcDen</th><th>obsid</th><th>objID</th></tr></thead>\n",
       "<thead><tr><th>str7</th><th>str4</th><th>str4</th><th>str10</th><th>str4</th><th>str4</th><th>str7</th><th>str9</th><th>str1</th><th>str47</th><th>float64</th><th>float64</th><th>str10</th><th>str14</th><th>int64</th><th>float64</th><th>float64</th><th>float64</th><th>float64</th><th>float64</th><th>str1</th><th>float64</th><th>str7</th><th>str1</th><th>int64</th><th>str47</th><th>str1</th><th>str73</th><th>str6</th><th>bool</th><th>float64</th><th>str9</th><th>str9</th></tr></thead>\n",
       "<tr><td>science</td><td>TESS</td><td>SPOC</td><td>Photometer</td><td>TESS</td><td>TESS</td><td>Optical</td><td>375422201</td><td>--</td><td>tess2019226182529-s0015-0000000375422201-0151-s</td><td>315.882138017318</td><td>59.4306688630694</td><td>timeseries</td><td>Ricker, George</td><td>3</td><td>58710.865153</td><td>58736.91139172</td><td>120.0</td><td>600.0</td><td>1000.0</td><td>--</td><td>58756.3333334</td><td>G022062</td><td>--</td><td>15</td><td>CIRCLE ICRS 315.88213802 59.43066886 0.00138889</td><td>--</td><td>mast:TESS/product/tess2019226182529-s0015-0000000375422201-0151-s_lc.fits</td><td>PUBLIC</td><td>False</td><td>nan</td><td>27468636</td><td>70521507</td></tr>\n",
       "<tr><td>science</td><td>TESS</td><td>SPOC</td><td>Photometer</td><td>TESS</td><td>TESS</td><td>Optical</td><td>375422201</td><td>--</td><td>tess2024249191853-s0083-0000000375422201-0280-s</td><td>315.882138017318</td><td>59.4306688630694</td><td>timeseries</td><td>Ricker, George</td><td>3</td><td>60558.9281077662</td><td>60583.87680471065</td><td>120.0</td><td>600.0</td><td>1000.0</td><td>--</td><td>60635.0</td><td>G06057</td><td>--</td><td>83</td><td>CIRCLE 315.88213802 59.43066886 0.00138889</td><td>--</td><td>mast:TESS/product/tess2024249191853-s0083-0000000375422201-0280-s_lc.fits</td><td>PUBLIC</td><td>False</td><td>nan</td><td>233054588</td><td>662953215</td></tr>\n",
       "</table></div>"
      ],
      "text/plain": [
       "<Table masked=True length=2>\n",
       "intentType obs_collection provenance_name ...  srcDen   obsid     objID  \n",
       "   str7         str4            str4      ... float64    str9      str9  \n",
       "---------- -------------- --------------- ... ------- --------- ---------\n",
       "   science           TESS            SPOC ...     nan  27468636  70521507\n",
       "   science           TESS            SPOC ...     nan 233054588 662953215"
      ]
     },
     "execution_count": 8,
     "metadata": {},
     "output_type": "execute_result"
    }
   ],
   "source": [
    "obs = Observations.query_criteria(target_name=375422201,\n",
    "                                  obs_collection=\"TESS\",\n",
    "                                  dataproduct_type='timeseries',\n",
    "                                  sequence_number=[15, 83])\n",
    "obs"
   ]
  },
  {
   "cell_type": "markdown",
   "metadata": {},
   "source": [
    "##### Wildcard Search\n",
    "\n",
    "Non-float criteria also support the use of wildcards. These are special characters used in search patterns to represent one or more unknown characters, allowing for flexible matching of strings. The available wildcards are `%` and `*`: each replaces any number of characters preceding, following, or in between the existing characters, depending on its placement. Wildcards can only be inserted into `string` objects in Python. However, you can use wildcards with integer criteria by passing in the arguments as strings. Remember this important caveat: only one wildcarded value can be processed per criterion.\n",
    "\n",
    "The following query demonstrates the use of wildcards. It returns TESS timeseries observations around TIC ID `375422201` where the proposal ID string starts with \"G0\" and contains the character \"6\". It also selects for observations where the sector number contains a \"7\". Note that although `sequence_number` is an integer field, it accepts a wildcarded string."
   ]
  },
  {
   "cell_type": "code",
   "execution_count": 9,
   "metadata": {},
   "outputs": [
    {
     "data": {
      "text/html": [
       "<div><i>Table masked=True length=3</i>\n",
       "<table id=\"table4963123600\" class=\"table-striped table-bordered table-condensed\">\n",
       "<thead><tr><th>intentType</th><th>obs_collection</th><th>provenance_name</th><th>instrument_name</th><th>project</th><th>filters</th><th>wavelength_region</th><th>target_name</th><th>target_classification</th><th>obs_id</th><th>s_ra</th><th>s_dec</th><th>dataproduct_type</th><th>proposal_pi</th><th>calib_level</th><th>t_min</th><th>t_max</th><th>t_exptime</th><th>em_min</th><th>em_max</th><th>obs_title</th><th>t_obs_release</th><th>proposal_id</th><th>proposal_type</th><th>sequence_number</th><th>s_region</th><th>jpegURL</th><th>dataURL</th><th>dataRights</th><th>mtFlag</th><th>srcDen</th><th>obsid</th><th>objID</th></tr></thead>\n",
       "<thead><tr><th>str7</th><th>str4</th><th>str4</th><th>str10</th><th>str4</th><th>str4</th><th>str7</th><th>str9</th><th>str1</th><th>str47</th><th>float64</th><th>float64</th><th>str10</th><th>str14</th><th>int64</th><th>float64</th><th>float64</th><th>float64</th><th>float64</th><th>float64</th><th>str1</th><th>float64</th><th>str7</th><th>str1</th><th>int64</th><th>str47</th><th>str1</th><th>str73</th><th>str6</th><th>bool</th><th>float64</th><th>str9</th><th>str9</th></tr></thead>\n",
       "<tr><td>science</td><td>TESS</td><td>SPOC</td><td>Photometer</td><td>TESS</td><td>TESS</td><td>Optical</td><td>375422201</td><td>--</td><td>tess2019279210107-s0017-0000000375422201-0161-s</td><td>315.882138017318</td><td>59.4306688630694</td><td>timeseries</td><td>Ricker, George</td><td>3</td><td>58764.1849972</td><td>58789.19571325</td><td>120.0</td><td>600.0</td><td>1000.0</td><td>--</td><td>58818.3333334</td><td>G022062</td><td>--</td><td>17</td><td>CIRCLE ICRS 315.88213802 59.43066886 0.00138889</td><td>--</td><td>mast:TESS/product/tess2019279210107-s0017-0000000375422201-0161-s_lc.fits</td><td>PUBLIC</td><td>False</td><td>nan</td><td>27560715</td><td>70704471</td></tr>\n",
       "<tr><td>science</td><td>TESS</td><td>SPOC</td><td>Photometer</td><td>TESS</td><td>TESS</td><td>Optical</td><td>375422201</td><td>--</td><td>tess2024058030222-s0076-0000000375422201-0271-s</td><td>315.882138017318</td><td>59.4306688630694</td><td>timeseries</td><td>Ricker, George</td><td>3</td><td>60367.19558641204</td><td>60394.2745305787</td><td>120.0</td><td>600.0</td><td>1000.0</td><td>--</td><td>60438.0</td><td>G06057</td><td>--</td><td>76</td><td>CIRCLE 315.88213802 59.43066886 0.00138889</td><td>--</td><td>mast:TESS/product/tess2024058030222-s0076-0000000375422201-0271-s_lc.fits</td><td>PUBLIC</td><td>False</td><td>nan</td><td>214434211</td><td>426205830</td></tr>\n",
       "<tr><td>science</td><td>TESS</td><td>SPOC</td><td>Photometer</td><td>TESS</td><td>TESS</td><td>Optical</td><td>375422201</td><td>--</td><td>tess2024085201119-s0077-0000000375422201-0272-s</td><td>315.882138017318</td><td>59.4306688630694</td><td>timeseries</td><td>Ricker, George</td><td>3</td><td>60394.98286416667</td><td>60423.04655712963</td><td>120.0</td><td>600.0</td><td>1000.0</td><td>--</td><td>60478.0</td><td>G06057</td><td>--</td><td>77</td><td>CIRCLE 315.88213802 59.43066886 0.00138889</td><td>--</td><td>mast:TESS/product/tess2024085201119-s0077-0000000375422201-0272-s_lc.fits</td><td>PUBLIC</td><td>False</td><td>nan</td><td>216505227</td><td>449945543</td></tr>\n",
       "</table></div>"
      ],
      "text/plain": [
       "<Table masked=True length=3>\n",
       "intentType obs_collection provenance_name ...  srcDen   obsid     objID  \n",
       "   str7         str4            str4      ... float64    str9      str9  \n",
       "---------- -------------- --------------- ... ------- --------- ---------\n",
       "   science           TESS            SPOC ...     nan  27560715  70704471\n",
       "   science           TESS            SPOC ...     nan 214434211 426205830\n",
       "   science           TESS            SPOC ...     nan 216505227 449945543"
      ]
     },
     "execution_count": 9,
     "metadata": {},
     "output_type": "execute_result"
    }
   ],
   "source": [
    "obs = Observations.query_criteria(target_name=375422201,\n",
    "                                  obs_collection=\"TESS\",\n",
    "                                  dataproduct_type='timeseries',\n",
    "                                  proposal_id='G0*6*',\n",
    "                                  sequence_number='*7*')\n",
    "obs"
   ]
  },
  {
   "cell_type": "markdown",
   "metadata": {},
   "source": [
    "### Step 2. Fetch and Filter Data Products\n",
    "\n",
    "Each TESS observation returned by a MAST query can have one or more [associated data products](https://archive.stsci.edu/missions-and-data/tess/data-products). For reproducibility, let's query the TESS timeseries observations for the target `375422201` in the [TESS Input Catalog (TIC)](https://tess.mit.edu/science/tess-input-catalogue/). We will also select for sectors 15, 16, and 17."
   ]
  },
  {
   "cell_type": "code",
   "execution_count": 10,
   "metadata": {},
   "outputs": [
    {
     "data": {
      "text/html": [
       "<div><i>Table masked=True length=4</i>\n",
       "<table id=\"table4963211024\" class=\"table-striped table-bordered table-condensed\">\n",
       "<thead><tr><th>intentType</th><th>obs_collection</th><th>provenance_name</th><th>instrument_name</th><th>project</th><th>filters</th><th>wavelength_region</th><th>target_name</th><th>target_classification</th><th>obs_id</th><th>s_ra</th><th>s_dec</th><th>dataproduct_type</th><th>proposal_pi</th><th>calib_level</th><th>t_min</th><th>t_max</th><th>t_exptime</th><th>em_min</th><th>em_max</th><th>obs_title</th><th>t_obs_release</th><th>proposal_id</th><th>proposal_type</th><th>sequence_number</th><th>s_region</th><th>jpegURL</th><th>dataURL</th><th>dataRights</th><th>mtFlag</th><th>srcDen</th><th>obsid</th><th>objID</th></tr></thead>\n",
       "<thead><tr><th>str7</th><th>str4</th><th>str4</th><th>str10</th><th>str4</th><th>str4</th><th>str7</th><th>str9</th><th>str1</th><th>str47</th><th>float64</th><th>float64</th><th>str10</th><th>str14</th><th>int64</th><th>float64</th><th>float64</th><th>float64</th><th>float64</th><th>float64</th><th>str1</th><th>float64</th><th>str7</th><th>str1</th><th>int64</th><th>str47</th><th>str1</th><th>str79</th><th>str6</th><th>bool</th><th>float64</th><th>str8</th><th>str9</th></tr></thead>\n",
       "<tr><td>science</td><td>TESS</td><td>SPOC</td><td>Photometer</td><td>TESS</td><td>TESS</td><td>Optical</td><td>375422201</td><td>--</td><td>tess2019226182529-s0015-0000000375422201-0151-s</td><td>315.882138017318</td><td>59.4306688630694</td><td>timeseries</td><td>Ricker, George</td><td>3</td><td>58710.865153</td><td>58736.91139172</td><td>120.0</td><td>600.0</td><td>1000.0</td><td>--</td><td>58756.3333334</td><td>G022062</td><td>--</td><td>15</td><td>CIRCLE ICRS 315.88213802 59.43066886 0.00138889</td><td>--</td><td>mast:TESS/product/tess2019226182529-s0015-0000000375422201-0151-s_lc.fits</td><td>PUBLIC</td><td>False</td><td>nan</td><td>27468636</td><td>70521507</td></tr>\n",
       "<tr><td>science</td><td>TESS</td><td>SPOC</td><td>Photometer</td><td>TESS</td><td>TESS</td><td>Optical</td><td>375422201</td><td>--</td><td>tess2019279210107-s0017-0000000375422201-0161-s</td><td>315.882138017318</td><td>59.4306688630694</td><td>timeseries</td><td>Ricker, George</td><td>3</td><td>58764.1849972</td><td>58789.19571325</td><td>120.0</td><td>600.0</td><td>1000.0</td><td>--</td><td>58818.3333334</td><td>G022062</td><td>--</td><td>17</td><td>CIRCLE ICRS 315.88213802 59.43066886 0.00138889</td><td>--</td><td>mast:TESS/product/tess2019279210107-s0017-0000000375422201-0161-s_lc.fits</td><td>PUBLIC</td><td>False</td><td>nan</td><td>27560715</td><td>70704471</td></tr>\n",
       "<tr><td>science</td><td>TESS</td><td>SPOC</td><td>Photometer</td><td>TESS</td><td>TESS</td><td>Optical</td><td>375422201</td><td>--</td><td>tess2019253231442-s0016-0000000375422201-0152-s</td><td>315.882138017318</td><td>59.4306688630694</td><td>timeseries</td><td>Ricker, George</td><td>3</td><td>58738.15307201389</td><td>58762.82112447917</td><td>120.0</td><td>600.0</td><td>1000.0</td><td>--</td><td>58782.3333334</td><td>G022062</td><td>--</td><td>16</td><td>CIRCLE 315.88213802 59.43066886 0.00138889</td><td>--</td><td>mast:TESS/product/tess2019253231442-s0016-0000000375422201-0152-s_lc.fits</td><td>PUBLIC</td><td>False</td><td>nan</td><td>27521123</td><td>116681958</td></tr>\n",
       "<tr><td>science</td><td>TESS</td><td>SPOC</td><td>Photometer</td><td>TESS</td><td>TESS</td><td>Optical</td><td>375422201</td><td>--</td><td>tess2019199201929-s0014-s0016-0000000375422201</td><td>315.882138017318</td><td>59.4306688630694</td><td>timeseries</td><td>Ricker, George</td><td>3</td><td>58710.859620104166</td><td>58762.8211475</td><td>120.0</td><td>600.0</td><td>1000.0</td><td>--</td><td>58794.0</td><td>G022062</td><td>--</td><td>16</td><td>CIRCLE 315.88213802 59.43066886 0.00138889</td><td>--</td><td>mast:TESS/product/tess2019199201929-s0014-s0016-0000000375422201-00253_dvt.fits</td><td>PUBLIC</td><td>False</td><td>nan</td><td>62289133</td><td>116681963</td></tr>\n",
       "</table></div>"
      ],
      "text/plain": [
       "<Table masked=True length=4>\n",
       "intentType obs_collection provenance_name ...  srcDen  obsid     objID  \n",
       "   str7         str4            str4      ... float64   str8      str9  \n",
       "---------- -------------- --------------- ... ------- -------- ---------\n",
       "   science           TESS            SPOC ...     nan 27468636  70521507\n",
       "   science           TESS            SPOC ...     nan 27560715  70704471\n",
       "   science           TESS            SPOC ...     nan 27521123 116681958\n",
       "   science           TESS            SPOC ...     nan 62289133 116681963"
      ]
     },
     "execution_count": 10,
     "metadata": {},
     "output_type": "execute_result"
    }
   ],
   "source": [
    "TESS_table = Observations.query_criteria(target_name=375422201,\n",
    "                                         obs_collection=\"TESS\",\n",
    "                                         dataproduct_type='timeseries',\n",
    "                                         sequence_number=[15, 16, 17]) \n",
    "TESS_table"
   ]
  },
  {
   "cell_type": "markdown",
   "metadata": {},
   "source": [
    "We can use the `Observations.get_product_list()` function to return the underlying product files for the four observations above. As input, the function takes a table of observations or a list of observation IDs (`obs_id` column)."
   ]
  },
  {
   "cell_type": "code",
   "execution_count": 11,
   "metadata": {},
   "outputs": [
    {
     "name": "stdout",
     "output_type": "stream",
     "text": [
      "Total Products: 60\n"
     ]
    },
    {
     "data": {
      "text/html": [
       "<div><i>Table masked=True length=5</i>\n",
       "<table id=\"table4962775632\" class=\"table-striped table-bordered table-condensed\">\n",
       "<thead><tr><th>obsID</th><th>obs_collection</th><th>dataproduct_type</th><th>obs_id</th><th>description</th><th>type</th><th>dataURI</th><th>productType</th><th>productGroupDescription</th><th>productSubGroupDescription</th><th>productDocumentationURL</th><th>project</th><th>prvversion</th><th>proposal_id</th><th>productFilename</th><th>size</th><th>parent_obsid</th><th>dataRights</th><th>calib_level</th><th>filters</th></tr></thead>\n",
       "<thead><tr><th>str8</th><th>str4</th><th>str10</th><th>str47</th><th>str33</th><th>str1</th><th>str81</th><th>str7</th><th>str28</th><th>str3</th><th>str1</th><th>str4</th><th>str20</th><th>str7</th><th>str63</th><th>int64</th><th>str8</th><th>str6</th><th>int64</th><th>str4</th></tr></thead>\n",
       "<tr><td>27468636</td><td>TESS</td><td>timeseries</td><td>tess2019226182529-s0015-0000000375422201-0151-s</td><td>full data validation report</td><td>S</td><td>mast:TESS/product/tess2019227203528-s0015-s0015-0000000375422201-00245_dvr.pdf</td><td>INFO</td><td>--</td><td>DVR</td><td>--</td><td>SPOC</td><td>f997d78fe0</td><td>G022062</td><td>tess2019227203528-s0015-s0015-0000000375422201-00245_dvr.pdf</td><td>38675244</td><td>27468636</td><td>PUBLIC</td><td>3</td><td>TESS</td></tr>\n",
       "<tr><td>27468636</td><td>TESS</td><td>timeseries</td><td>tess2019226182529-s0015-0000000375422201-0151-s</td><td>full data validation report (xml)</td><td>S</td><td>mast:TESS/product/tess2019227203528-s0015-s0015-0000000375422201-00245_dvr.xml</td><td>INFO</td><td>--</td><td>DVR</td><td>--</td><td>SPOC</td><td>f997d78fe0</td><td>G022062</td><td>tess2019227203528-s0015-s0015-0000000375422201-00245_dvr.xml</td><td>406328</td><td>27468636</td><td>PUBLIC</td><td>3</td><td>TESS</td></tr>\n",
       "<tr><td>27468636</td><td>TESS</td><td>timeseries</td><td>tess2019226182529-s0015-0000000375422201-0151-s</td><td>full data validation report</td><td>S</td><td>mast:TESS/product/tess2019227203528-s0015-s0015-0000000375422201-00297_dvr.pdf</td><td>INFO</td><td>--</td><td>DVR</td><td>--</td><td>SPOC</td><td>f997d78fe0</td><td>G022062</td><td>tess2019227203528-s0015-s0015-0000000375422201-00297_dvr.pdf</td><td>36407463</td><td>27468636</td><td>PUBLIC</td><td>3</td><td>TESS</td></tr>\n",
       "<tr><td>27468636</td><td>TESS</td><td>timeseries</td><td>tess2019226182529-s0015-0000000375422201-0151-s</td><td>full data validation report (xml)</td><td>S</td><td>mast:TESS/product/tess2019227203528-s0015-s0015-0000000375422201-00297_dvr.xml</td><td>INFO</td><td>--</td><td>DVR</td><td>--</td><td>SPOC</td><td>f997d78fe0</td><td>G022062</td><td>tess2019227203528-s0015-s0015-0000000375422201-00297_dvr.xml</td><td>399136</td><td>27468636</td><td>PUBLIC</td><td>3</td><td>TESS</td></tr>\n",
       "<tr><td>27468636</td><td>TESS</td><td>timeseries</td><td>tess2019226182529-s0015-0000000375422201-0151-s</td><td>Data validation mini report</td><td>S</td><td>mast:TESS/product/tess2019227203528-s0015-s0015-0000000375422201-00245_dvm.pdf</td><td>INFO</td><td>Minimum Recommended Products</td><td>DVM</td><td>--</td><td>SPOC</td><td>f997d78fe0</td><td>G022062</td><td>tess2019227203528-s0015-s0015-0000000375422201-00245_dvm.pdf</td><td>10859707</td><td>27468636</td><td>PUBLIC</td><td>3</td><td>TESS</td></tr>\n",
       "</table></div>"
      ],
      "text/plain": [
       "<Table masked=True length=5>\n",
       " obsID   obs_collection dataproduct_type ... dataRights calib_level filters\n",
       "  str8        str4           str10       ...    str6       int64      str4 \n",
       "-------- -------------- ---------------- ... ---------- ----------- -------\n",
       "27468636           TESS       timeseries ...     PUBLIC           3    TESS\n",
       "27468636           TESS       timeseries ...     PUBLIC           3    TESS\n",
       "27468636           TESS       timeseries ...     PUBLIC           3    TESS\n",
       "27468636           TESS       timeseries ...     PUBLIC           3    TESS\n",
       "27468636           TESS       timeseries ...     PUBLIC           3    TESS"
      ]
     },
     "execution_count": 11,
     "metadata": {},
     "output_type": "execute_result"
    }
   ],
   "source": [
    "data_products = Observations.get_product_list(TESS_table)\n",
    "\n",
    "print(f'Total Products: {len(data_products)}')\n",
    "data_products[:5]"
   ]
  },
  {
   "cell_type": "markdown",
   "metadata": {},
   "source": [
    "#### Filtering Products\n",
    "\n",
    "This returned quite a few products! We are not interested in all of them, and luckily, we have a handy function to filter them for us. `Observations.filter_products` allows you to filter based on minimum recommended products (`mrp_only`), file extension (`extension`), and any other of the [product fields](https://mast.stsci.edu/api/v0/_productsfields.html).\n",
    "\n",
    "A quick note on filtering: the **AND** operation is performed for a list of filters, and the **OR** operation is performed within a filter set. For example, the filter below will return products that are \"SCIENCE\" type **and** have a `productSubGroupDescription` of \"LC\" (light curves) **or** \"TP\" (target pixel files)."
   ]
  },
  {
   "cell_type": "code",
   "execution_count": 12,
   "metadata": {},
   "outputs": [
    {
     "data": {
      "text/html": [
       "<div><i>Table masked=True length=6</i>\n",
       "<table id=\"table4963036944\" class=\"table-striped table-bordered table-condensed\">\n",
       "<thead><tr><th>obsID</th><th>obs_collection</th><th>dataproduct_type</th><th>obs_id</th><th>description</th><th>type</th><th>dataURI</th><th>productType</th><th>productGroupDescription</th><th>productSubGroupDescription</th><th>productDocumentationURL</th><th>project</th><th>prvversion</th><th>proposal_id</th><th>productFilename</th><th>size</th><th>parent_obsid</th><th>dataRights</th><th>calib_level</th><th>filters</th></tr></thead>\n",
       "<thead><tr><th>str8</th><th>str4</th><th>str10</th><th>str47</th><th>str33</th><th>str1</th><th>str81</th><th>str7</th><th>str28</th><th>str3</th><th>str1</th><th>str4</th><th>str20</th><th>str7</th><th>str63</th><th>int64</th><th>str8</th><th>str6</th><th>int64</th><th>str4</th></tr></thead>\n",
       "<tr><td>27468636</td><td>TESS</td><td>timeseries</td><td>tess2019226182529-s0015-0000000375422201-0151-s</td><td>Light curves</td><td>S</td><td>mast:TESS/product/tess2019226182529-s0015-0000000375422201-0151-s_lc.fits</td><td>SCIENCE</td><td>Minimum Recommended Products</td><td>LC</td><td>--</td><td>SPOC</td><td>f997d78fe0</td><td>G022062</td><td>tess2019226182529-s0015-0000000375422201-0151-s_lc.fits</td><td>1906560</td><td>27468636</td><td>PUBLIC</td><td>3</td><td>TESS</td></tr>\n",
       "<tr><td>27468636</td><td>TESS</td><td>timeseries</td><td>tess2019226182529-s0015-0000000375422201-0151-s</td><td>Target pixel files</td><td>S</td><td>mast:TESS/product/tess2019226182529-s0015-0000000375422201-0151-s_tp.fits</td><td>SCIENCE</td><td>Minimum Recommended Products</td><td>TP</td><td>--</td><td>SPOC</td><td>spoc-4.0.28-20200407</td><td>G022062</td><td>tess2019226182529-s0015-0000000375422201-0151-s_tp.fits</td><td>45956160</td><td>27468636</td><td>PUBLIC</td><td>2</td><td>TESS</td></tr>\n",
       "<tr><td>27521123</td><td>TESS</td><td>timeseries</td><td>tess2019253231442-s0016-0000000375422201-0152-s</td><td>Light curves</td><td>S</td><td>mast:TESS/product/tess2019253231442-s0016-0000000375422201-0152-s_lc.fits</td><td>SCIENCE</td><td>Minimum Recommended Products</td><td>LC</td><td>--</td><td>SPOC</td><td>f997d78fe0</td><td>G022062</td><td>tess2019253231442-s0016-0000000375422201-0152-s_lc.fits</td><td>1805760</td><td>27521123</td><td>PUBLIC</td><td>3</td><td>TESS</td></tr>\n",
       "<tr><td>27521123</td><td>TESS</td><td>timeseries</td><td>tess2019253231442-s0016-0000000375422201-0152-s</td><td>Target pixel files</td><td>S</td><td>mast:TESS/product/tess2019253231442-s0016-0000000375422201-0152-s_tp.fits</td><td>SCIENCE</td><td>Minimum Recommended Products</td><td>TP</td><td>--</td><td>SPOC</td><td>spoc-4.0.28-20200407</td><td>G022062</td><td>tess2019253231442-s0016-0000000375422201-0152-s_tp.fits</td><td>43528320</td><td>27521123</td><td>PUBLIC</td><td>2</td><td>TESS</td></tr>\n",
       "<tr><td>27560715</td><td>TESS</td><td>timeseries</td><td>tess2019279210107-s0017-0000000375422201-0161-s</td><td>Light curves</td><td>S</td><td>mast:TESS/product/tess2019279210107-s0017-0000000375422201-0161-s_lc.fits</td><td>SCIENCE</td><td>Minimum Recommended Products</td><td>LC</td><td>--</td><td>SPOC</td><td>f997d78fe0</td><td>G022062</td><td>tess2019279210107-s0017-0000000375422201-0161-s_lc.fits</td><td>1831680</td><td>27560715</td><td>PUBLIC</td><td>3</td><td>TESS</td></tr>\n",
       "<tr><td>27560715</td><td>TESS</td><td>timeseries</td><td>tess2019279210107-s0017-0000000375422201-0161-s</td><td>Target pixel files</td><td>S</td><td>mast:TESS/product/tess2019279210107-s0017-0000000375422201-0161-s_tp.fits</td><td>SCIENCE</td><td>Minimum Recommended Products</td><td>TP</td><td>--</td><td>SPOC</td><td>spoc-4.0.28-20200407</td><td>G022062</td><td>tess2019279210107-s0017-0000000375422201-0161-s_tp.fits</td><td>44133120</td><td>27560715</td><td>PUBLIC</td><td>2</td><td>TESS</td></tr>\n",
       "</table></div>"
      ],
      "text/plain": [
       "<Table masked=True length=6>\n",
       " obsID   obs_collection dataproduct_type ... dataRights calib_level filters\n",
       "  str8        str4           str10       ...    str6       int64      str4 \n",
       "-------- -------------- ---------------- ... ---------- ----------- -------\n",
       "27468636           TESS       timeseries ...     PUBLIC           3    TESS\n",
       "27468636           TESS       timeseries ...     PUBLIC           2    TESS\n",
       "27521123           TESS       timeseries ...     PUBLIC           3    TESS\n",
       "27521123           TESS       timeseries ...     PUBLIC           2    TESS\n",
       "27560715           TESS       timeseries ...     PUBLIC           3    TESS\n",
       "27560715           TESS       timeseries ...     PUBLIC           2    TESS"
      ]
     },
     "execution_count": 12,
     "metadata": {},
     "output_type": "execute_result"
    }
   ],
   "source": [
    "science_products = Observations.filter_products(data_products,\n",
    "                                                productType='SCIENCE',\n",
    "                                                productSubGroupDescription=[\"LC\", \"TP\"])\n",
    "science_products"
   ]
  },
  {
   "cell_type": "markdown",
   "metadata": {},
   "source": [
    "### Step 3. Access Data on the Cloud\n",
    "\n",
    "TESS data is publicly available for free on [Amazon Web Services](https://registry.opendata.aws/collab/stsci/). Now that we have a table of filtered products, we can use the `Observations.get_cloud_uris` function to locate these product files in the S3 bucket."
   ]
  },
  {
   "cell_type": "code",
   "execution_count": 13,
   "metadata": {},
   "outputs": [
    {
     "data": {
      "text/plain": [
       "['s3://stpubdata/tess/public/tid/s0015/0000/0003/7542/2201/tess2019226182529-s0015-0000000375422201-0151-s_lc.fits',\n",
       " 's3://stpubdata/tess/public/tid/s0015/0000/0003/7542/2201/tess2019226182529-s0015-0000000375422201-0151-s_tp.fits',\n",
       " 's3://stpubdata/tess/public/tid/s0016/0000/0003/7542/2201/tess2019253231442-s0016-0000000375422201-0152-s_lc.fits',\n",
       " 's3://stpubdata/tess/public/tid/s0016/0000/0003/7542/2201/tess2019253231442-s0016-0000000375422201-0152-s_tp.fits',\n",
       " 's3://stpubdata/tess/public/tid/s0017/0000/0003/7542/2201/tess2019279210107-s0017-0000000375422201-0161-s_lc.fits',\n",
       " 's3://stpubdata/tess/public/tid/s0017/0000/0003/7542/2201/tess2019279210107-s0017-0000000375422201-0161-s_tp.fits']"
      ]
     },
     "execution_count": 13,
     "metadata": {},
     "output_type": "execute_result"
    }
   ],
   "source": [
    "Observations.get_cloud_uris(science_products)"
   ]
  },
  {
   "cell_type": "markdown",
   "metadata": {},
   "source": [
    "The output is a list of S3 URIs: one for each product in the table that we passed into the function. We can now use these URIs to open the files and stream their data directly into system memory. No expensive downloading required!\n",
    "\n",
    "We will explore some different ways to access cloud data in the afternoon session.\n",
    "\n",
    "### Streamlined Query\n",
    "\n",
    "In this tutorial, we walked through a 3-step workflow to query MAST observations and locate data products on the cloud. You can streamline this process by providing query criteria and product filters directly to the `get_cloud_uris()` function! Query criteria are supplied as keyword arguments, and filters are supplied through the `filter_products` parameter.\n",
    "\n",
    "Below is the streamlined version of the walkthrough example:"
   ]
  },
  {
   "cell_type": "code",
   "execution_count": 14,
   "metadata": {},
   "outputs": [
    {
     "data": {
      "text/plain": [
       "['s3://stpubdata/tess/public/tid/s0015/0000/0003/7542/2201/tess2019226182529-s0015-0000000375422201-0151-s_lc.fits',\n",
       " 's3://stpubdata/tess/public/tid/s0015/0000/0003/7542/2201/tess2019226182529-s0015-0000000375422201-0151-s_tp.fits',\n",
       " 's3://stpubdata/tess/public/tid/s0016/0000/0003/7542/2201/tess2019253231442-s0016-0000000375422201-0152-s_lc.fits',\n",
       " 's3://stpubdata/tess/public/tid/s0016/0000/0003/7542/2201/tess2019253231442-s0016-0000000375422201-0152-s_tp.fits',\n",
       " 's3://stpubdata/tess/public/tid/s0017/0000/0003/7542/2201/tess2019279210107-s0017-0000000375422201-0161-s_lc.fits',\n",
       " 's3://stpubdata/tess/public/tid/s0017/0000/0003/7542/2201/tess2019279210107-s0017-0000000375422201-0161-s_tp.fits']"
      ]
     },
     "execution_count": 14,
     "metadata": {},
     "output_type": "execute_result"
    }
   ],
   "source": [
    "Observations.get_cloud_uris(target_name=375422201,\n",
    "                            obs_collection='TESS',\n",
    "                            dataproduct_type='timeseries',\n",
    "                            sequence_number=[15, 16, 17],\n",
    "                            filter_products={'productType': 'SCIENCE',\n",
    "                                             'productSubGroupDescription': ['LC', 'TP']})"
   ]
  },
  {
   "cell_type": "markdown",
   "metadata": {},
   "source": [
    "## Exercise\n",
    "\n",
    "To unlock your clue for this challenge, you'll need to use the workflow described in this notebook to query for observations and fetch product files, and locate data on the cloud.\n",
    "\n",
    "First, write a query that satisfies the following criteria:\n",
    "- Cone search around the M11 object with a radius of 0.2 degrees.\n",
    "- Image observations.\n",
    "- Wavelength region is \"OPTICAL\" or \"INFRARED\".\n",
    "- Observation description (title) contains the word \"survey\".\n",
    "- Observation exposure time is between 785 and 794 seconds.\n",
    "\n",
    "Since this is a more complicated query, it may take up to a minute to return results."
   ]
  },
  {
   "cell_type": "code",
   "execution_count": 15,
   "metadata": {},
   "outputs": [
    {
     "data": {
      "text/html": [
       "<div><i>Table masked=True length=1</i>\n",
       "<table id=\"table4962252368\" class=\"table-striped table-bordered table-condensed\">\n",
       "<thead><tr><th>intentType</th><th>obs_collection</th><th>provenance_name</th><th>instrument_name</th><th>project</th><th>filters</th><th>wavelength_region</th><th>target_name</th><th>target_classification</th><th>obs_id</th><th>s_ra</th><th>s_dec</th><th>dataproduct_type</th><th>proposal_pi</th><th>calib_level</th><th>t_min</th><th>t_max</th><th>t_exptime</th><th>em_min</th><th>em_max</th><th>obs_title</th><th>t_obs_release</th><th>proposal_id</th><th>proposal_type</th><th>sequence_number</th><th>s_region</th><th>jpegURL</th><th>dataURL</th><th>dataRights</th><th>mtFlag</th><th>srcDen</th><th>obsid</th><th>objID</th><th>objID1</th><th>distance</th></tr></thead>\n",
       "<thead><tr><th>str7</th><th>str3</th><th>str3</th><th>str4</th><th>str3</th><th>str1</th><th>str7</th><th>str8</th><th>str1</th><th>str31</th><th>float64</th><th>float64</th><th>str5</th><th>str1</th><th>int64</th><th>float64</th><th>float64</th><th>float64</th><th>float64</th><th>float64</th><th>str14</th><th>float64</th><th>str1</th><th>str3</th><th>int64</th><th>str113</th><th>str120</th><th>str96</th><th>str6</th><th>bool</th><th>float64</th><th>str7</th><th>str8</th><th>str8</th><th>float64</th></tr></thead>\n",
       "<tr><td>science</td><td>PS1</td><td>3PI</td><td>GPC1</td><td>PS1</td><td>r</td><td>OPTICAL</td><td>1213.046</td><td>--</td><td>rings.v3.skycell.1213.046.stk.r</td><td>282.5369744950383</td><td>-6.199822222117987</td><td>image</td><td>--</td><td>3</td><td>55009.4330113</td><td>56463.506483762954</td><td>792.0</td><td>538.5999755859375</td><td>703.5999755859375</td><td>PS1 3PI Survey</td><td>57741.5416666</td><td>--</td><td>3PI</td><td>--</td><td>POLYGON ICRS   282.756515    -6.416929  282.756825    -5.983127  282.317609    -5.982643  282.316949    -6.416409</td><td>http://ps1images.stsci.edu/cgi-bin/fitscut.cgi?red=rings.v3.skycell/1213/046/rings.v3.skycell.1213.046.stk.r.unconv.fits</td><td>http://ps1images.stsci.edu/rings.v3.skycell/1213/046/rings.v3.skycell.1213.046.stk.r.unconv.fits</td><td>PUBLIC</td><td>--</td><td>5885.0</td><td>2047496</td><td>42022827</td><td>42022827</td><td>33.570792796044266</td></tr>\n",
       "</table></div>"
      ],
      "text/plain": [
       "<Table masked=True length=1>\n",
       "intentType obs_collection provenance_name ...  objID1       distance     \n",
       "   str7         str3            str3      ...   str8        float64      \n",
       "---------- -------------- --------------- ... -------- ------------------\n",
       "   science            PS1             3PI ... 42022827 33.570792796044266"
      ]
     },
     "execution_count": 15,
     "metadata": {},
     "output_type": "execute_result"
    }
   ],
   "source": [
    "# Write your criteria query\n",
    "obs = Observations.query_criteria(objectname=\"M11\",\n",
    "                                  radius=0.2,\n",
    "                                  dataproduct_type=\"image\",\n",
    "                                  wavelength_region=[\"OPTICAL\", \"INFRARED\"],\n",
    "                                  obs_title=\"*survey*\",\n",
    "                                  t_exptime=[785, 794])\n",
    "obs"
   ]
  },
  {
   "cell_type": "markdown",
   "metadata": {},
   "source": [
    "Next, you'll need to get the product files for your query results and filter them to only include the following:\n",
    "- FITS files.\n",
    "- Publicly available files (HINT: `dataRights` field)."
   ]
  },
  {
   "cell_type": "code",
   "execution_count": 16,
   "metadata": {},
   "outputs": [
    {
     "data": {
      "text/html": [
       "<div><i>Table masked=True length=97</i>\n",
       "<table id=\"table5208853456\" class=\"table-striped table-bordered table-condensed\">\n",
       "<thead><tr><th>obsID</th><th>obs_collection</th><th>dataproduct_type</th><th>obs_id</th><th>description</th><th>type</th><th>dataURI</th><th>productType</th><th>productGroupDescription</th><th>productSubGroupDescription</th><th>productDocumentationURL</th><th>project</th><th>prvversion</th><th>proposal_id</th><th>productFilename</th><th>size</th><th>parent_obsid</th><th>dataRights</th><th>calib_level</th><th>filters</th></tr></thead>\n",
       "<thead><tr><th>str7</th><th>str3</th><th>str5</th><th>str43</th><th>str32</th><th>str1</th><th>str71</th><th>str9</th><th>str28</th><th>str5</th><th>str1</th><th>str3</th><th>str3</th><th>str1</th><th>str54</th><th>int64</th><th>str7</th><th>str10</th><th>int64</th><th>str1</th></tr></thead>\n",
       "<tr><td>2047496</td><td>PS1</td><td>image</td><td>rings.v3.skycell.1213.046.stk.r</td><td>stack exposure time map</td><td>C</td><td>mast:PS1/product/rings.v3.skycell.1213.046.stk.r.unconv.exp.fits</td><td>AUXILIARY</td><td>--</td><td>STACK</td><td>--</td><td>3PI</td><td>pv3</td><td>--</td><td>rings.v3.skycell.1213.046.stk.r.unconv.exp.fits</td><td>15249600</td><td>2047496</td><td>PUBLIC</td><td>3</td><td>r</td></tr>\n",
       "<tr><td>2047496</td><td>PS1</td><td>image</td><td>rings.v3.skycell.1213.046.stk.r</td><td>stack weighted exposure time map</td><td>C</td><td>mast:PS1/product/rings.v3.skycell.1213.046.stk.r.unconv.expwt.fits</td><td>AUXILIARY</td><td>--</td><td>STACK</td><td>--</td><td>3PI</td><td>pv3</td><td>--</td><td>rings.v3.skycell.1213.046.stk.r.unconv.expwt.fits</td><td>20352960</td><td>2047496</td><td>PUBLIC</td><td>3</td><td>r</td></tr>\n",
       "<tr><td>2047496</td><td>PS1</td><td>image</td><td>rings.v3.skycell.1213.046.stk.r</td><td>stack mask image</td><td>C</td><td>mast:PS1/product/rings.v3.skycell.1213.046.stk.r.unconv.mask.fits</td><td>AUXILIARY</td><td>--</td><td>STACK</td><td>--</td><td>3PI</td><td>pv3</td><td>--</td><td>rings.v3.skycell.1213.046.stk.r.unconv.mask.fits</td><td>947520</td><td>2047496</td><td>PUBLIC</td><td>3</td><td>r</td></tr>\n",
       "<tr><td>2047496</td><td>PS1</td><td>image</td><td>rings.v3.skycell.1213.046.stk.r</td><td>stack input number map</td><td>C</td><td>mast:PS1/product/rings.v3.skycell.1213.046.stk.r.unconv.num.fits</td><td>AUXILIARY</td><td>--</td><td>STACK</td><td>--</td><td>3PI</td><td>pv3</td><td>--</td><td>rings.v3.skycell.1213.046.stk.r.unconv.num.fits</td><td>12741120</td><td>2047496</td><td>PUBLIC</td><td>3</td><td>r</td></tr>\n",
       "<tr><td>2047496</td><td>PS1</td><td>image</td><td>rings.v3.skycell.1213.046.stk.r</td><td>stack variance image</td><td>C</td><td>mast:PS1/product/rings.v3.skycell.1213.046.stk.r.unconv.wt.fits</td><td>AUXILIARY</td><td>--</td><td>STACK</td><td>--</td><td>3PI</td><td>pv3</td><td>--</td><td>rings.v3.skycell.1213.046.stk.r.unconv.wt.fits</td><td>57611520</td><td>2047496</td><td>PUBLIC</td><td>3</td><td>r</td></tr>\n",
       "<tr><td>2047496</td><td>PS1</td><td>image</td><td>rings.v3.skycell.1213.046.stk.r</td><td>stack config file</td><td>C</td><td>mast:PS1/product/rings.v3.skycell.1213.046.stk.r.ppstack.mdc</td><td>INFO</td><td>--</td><td>STACK</td><td>--</td><td>3PI</td><td>pv3</td><td>--</td><td>rings.v3.skycell.1213.046.stk.r.ppstack.mdc</td><td>124477</td><td>2047496</td><td>PUBLIC</td><td>3</td><td>r</td></tr>\n",
       "<tr><td>2047496</td><td>PS1</td><td>image</td><td>rings.v3.skycell.1213.046.stk.r</td><td>stack PSF</td><td>C</td><td>mast:PS1/product/rings.v3.skycell.1213.046.stk.r.target.psf</td><td>INFO</td><td>--</td><td>STACK</td><td>--</td><td>3PI</td><td>pv3</td><td>--</td><td>rings.v3.skycell.1213.046.stk.r.target.psf</td><td>20160</td><td>2047496</td><td>PUBLIC</td><td>3</td><td>r</td></tr>\n",
       "<tr><td>2047496</td><td>PS1</td><td>image</td><td>rings.v3.skycell.1213.046.stk.r</td><td>catalog data</td><td>C</td><td>mast:PS1/product/rings.v3.skycell.1213.046.stk.r.cmf</td><td>SCIENCE</td><td>--</td><td>STACK</td><td>--</td><td>3PI</td><td>pv3</td><td>--</td><td>rings.v3.skycell.1213.046.stk.r.cmf</td><td>63987840</td><td>2047496</td><td>PUBLIC</td><td>3</td><td>r</td></tr>\n",
       "<tr><td>2047496</td><td>PS1</td><td>image</td><td>rings.v3.skycell.1213.046.stk.r</td><td>stack data image</td><td>C</td><td>mast:PS1/product/rings.v3.skycell.1213.046.stk.r.unconv.fits</td><td>SCIENCE</td><td>Minimum Recommended Products</td><td>STACK</td><td>--</td><td>3PI</td><td>pv3</td><td>--</td><td>rings.v3.skycell.1213.046.stk.r.unconv.fits</td><td>59837760</td><td>2047496</td><td>PUBLIC</td><td>3</td><td>r</td></tr>\n",
       "<tr><td>...</td><td>...</td><td>...</td><td>...</td><td>...</td><td>...</td><td>...</td><td>...</td><td>...</td><td>...</td><td>...</td><td>...</td><td>...</td><td>...</td><td>...</td><td>...</td><td>...</td><td>...</td><td>...</td><td>...</td></tr>\n",
       "<tr><td>8502776</td><td>PS1</td><td>image</td><td>rings.v3.skycell.1213.046.wrp.r.55751_37762</td><td>warp data image</td><td>S</td><td>mast:PS1/product/rings.v3.skycell.1213.046.wrp.r.55751_37762.fits</td><td>SCIENCE</td><td>--</td><td>WARP</td><td>--</td><td>PS1</td><td>pv3</td><td>--</td><td>rings.v3.skycell.1213.046.wrp.r.55751_37762.fits</td><td>25197120</td><td>2047496</td><td>RESTRICTED</td><td>2</td><td>r</td></tr>\n",
       "<tr><td>8502777</td><td>PS1</td><td>image</td><td>rings.v3.skycell.1213.046.wrp.r.56455_55228</td><td>warp mask image</td><td>S</td><td>mast:PS1/product/rings.v3.skycell.1213.046.wrp.r.56455_55228.mask.fits</td><td>AUXILIARY</td><td>--</td><td>WARP</td><td>--</td><td>PS1</td><td>pv3</td><td>--</td><td>rings.v3.skycell.1213.046.wrp.r.56455_55228.mask.fits</td><td>7104960</td><td>2047496</td><td>RESTRICTED</td><td>2</td><td>r</td></tr>\n",
       "<tr><td>8502777</td><td>PS1</td><td>image</td><td>rings.v3.skycell.1213.046.wrp.r.56455_55228</td><td>warp variance image</td><td>S</td><td>mast:PS1/product/rings.v3.skycell.1213.046.wrp.r.56455_55228.wt.fits</td><td>AUXILIARY</td><td>--</td><td>WARP</td><td>--</td><td>PS1</td><td>pv3</td><td>--</td><td>rings.v3.skycell.1213.046.wrp.r.56455_55228.wt.fits</td><td>29465280</td><td>2047496</td><td>RESTRICTED</td><td>2</td><td>r</td></tr>\n",
       "<tr><td>8502777</td><td>PS1</td><td>image</td><td>rings.v3.skycell.1213.046.wrp.r.56455_55228</td><td>warp config file</td><td>S</td><td>mast:PS1/product/rings.v3.skycell.1213.046.wrp.r.56455_55228.pswarp.mdc</td><td>INFO</td><td>--</td><td>WARP</td><td>--</td><td>PS1</td><td>pv3</td><td>--</td><td>rings.v3.skycell.1213.046.wrp.r.56455_55228.pswarp.mdc</td><td>123630</td><td>2047496</td><td>RESTRICTED</td><td>2</td><td>r</td></tr>\n",
       "<tr><td>8502777</td><td>PS1</td><td>image</td><td>rings.v3.skycell.1213.046.wrp.r.56455_55228</td><td>warp catalog data</td><td>S</td><td>mast:PS1/product/rings.v3.skycell.1213.046.wrp.r.56455_55228.cmf</td><td>SCIENCE</td><td>--</td><td>WARP</td><td>--</td><td>PS1</td><td>pv3</td><td>--</td><td>rings.v3.skycell.1213.046.wrp.r.56455_55228.cmf</td><td>9766080</td><td>2047496</td><td>RESTRICTED</td><td>2</td><td>r</td></tr>\n",
       "<tr><td>8502777</td><td>PS1</td><td>image</td><td>rings.v3.skycell.1213.046.wrp.r.56455_55228</td><td>warp data image</td><td>S</td><td>mast:PS1/product/rings.v3.skycell.1213.046.wrp.r.56455_55228.fits</td><td>SCIENCE</td><td>--</td><td>WARP</td><td>--</td><td>PS1</td><td>pv3</td><td>--</td><td>rings.v3.skycell.1213.046.wrp.r.56455_55228.fits</td><td>23765760</td><td>2047496</td><td>RESTRICTED</td><td>2</td><td>r</td></tr>\n",
       "<tr><td>8502778</td><td>PS1</td><td>image</td><td>rings.v3.skycell.1213.046.wrp.r.56088_49563</td><td>warp mask image</td><td>S</td><td>mast:PS1/product/rings.v3.skycell.1213.046.wrp.r.56088_49563.mask.fits</td><td>AUXILIARY</td><td>--</td><td>WARP</td><td>--</td><td>PS1</td><td>pv3</td><td>--</td><td>rings.v3.skycell.1213.046.wrp.r.56088_49563.mask.fits</td><td>6474240</td><td>2047496</td><td>RESTRICTED</td><td>2</td><td>r</td></tr>\n",
       "<tr><td>8502778</td><td>PS1</td><td>image</td><td>rings.v3.skycell.1213.046.wrp.r.56088_49563</td><td>warp variance image</td><td>S</td><td>mast:PS1/product/rings.v3.skycell.1213.046.wrp.r.56088_49563.wt.fits</td><td>AUXILIARY</td><td>--</td><td>WARP</td><td>--</td><td>PS1</td><td>pv3</td><td>--</td><td>rings.v3.skycell.1213.046.wrp.r.56088_49563.wt.fits</td><td>32198400</td><td>2047496</td><td>RESTRICTED</td><td>2</td><td>r</td></tr>\n",
       "<tr><td>8502778</td><td>PS1</td><td>image</td><td>rings.v3.skycell.1213.046.wrp.r.56088_49563</td><td>warp catalog data</td><td>S</td><td>mast:PS1/product/rings.v3.skycell.1213.046.wrp.r.56088_49563.cmf</td><td>SCIENCE</td><td>--</td><td>WARP</td><td>--</td><td>PS1</td><td>pv3</td><td>--</td><td>rings.v3.skycell.1213.046.wrp.r.56088_49563.cmf</td><td>19540800</td><td>2047496</td><td>RESTRICTED</td><td>2</td><td>r</td></tr>\n",
       "<tr><td>8502778</td><td>PS1</td><td>image</td><td>rings.v3.skycell.1213.046.wrp.r.56088_49563</td><td>warp data image</td><td>S</td><td>mast:PS1/product/rings.v3.skycell.1213.046.wrp.r.56088_49563.fits</td><td>SCIENCE</td><td>--</td><td>WARP</td><td>--</td><td>PS1</td><td>pv3</td><td>--</td><td>rings.v3.skycell.1213.046.wrp.r.56088_49563.fits</td><td>27394560</td><td>2047496</td><td>RESTRICTED</td><td>2</td><td>r</td></tr>\n",
       "</table></div>"
      ],
      "text/plain": [
       "<Table masked=True length=97>\n",
       " obsID  obs_collection dataproduct_type ... dataRights calib_level filters\n",
       "  str7       str3            str5       ...   str10       int64      str1 \n",
       "------- -------------- ---------------- ... ---------- ----------- -------\n",
       "2047496            PS1            image ...     PUBLIC           3       r\n",
       "2047496            PS1            image ...     PUBLIC           3       r\n",
       "2047496            PS1            image ...     PUBLIC           3       r\n",
       "2047496            PS1            image ...     PUBLIC           3       r\n",
       "2047496            PS1            image ...     PUBLIC           3       r\n",
       "2047496            PS1            image ...     PUBLIC           3       r\n",
       "2047496            PS1            image ...     PUBLIC           3       r\n",
       "2047496            PS1            image ...     PUBLIC           3       r\n",
       "2047496            PS1            image ...     PUBLIC           3       r\n",
       "    ...            ...              ... ...        ...         ...     ...\n",
       "8502776            PS1            image ... RESTRICTED           2       r\n",
       "8502777            PS1            image ... RESTRICTED           2       r\n",
       "8502777            PS1            image ... RESTRICTED           2       r\n",
       "8502777            PS1            image ... RESTRICTED           2       r\n",
       "8502777            PS1            image ... RESTRICTED           2       r\n",
       "8502777            PS1            image ... RESTRICTED           2       r\n",
       "8502778            PS1            image ... RESTRICTED           2       r\n",
       "8502778            PS1            image ... RESTRICTED           2       r\n",
       "8502778            PS1            image ... RESTRICTED           2       r\n",
       "8502778            PS1            image ... RESTRICTED           2       r"
      ]
     },
     "execution_count": 16,
     "metadata": {},
     "output_type": "execute_result"
    }
   ],
   "source": [
    "# Get data products for your observations\n",
    "prods = Observations.get_product_list(obs)\n",
    "prods"
   ]
  },
  {
   "cell_type": "code",
   "execution_count": 17,
   "metadata": {},
   "outputs": [
    {
     "data": {
      "text/html": [
       "<div><i>Table masked=True length=6</i>\n",
       "<table id=\"table5208425424\" class=\"table-striped table-bordered table-condensed\">\n",
       "<thead><tr><th>obsID</th><th>obs_collection</th><th>dataproduct_type</th><th>obs_id</th><th>description</th><th>type</th><th>dataURI</th><th>productType</th><th>productGroupDescription</th><th>productSubGroupDescription</th><th>productDocumentationURL</th><th>project</th><th>prvversion</th><th>proposal_id</th><th>productFilename</th><th>size</th><th>parent_obsid</th><th>dataRights</th><th>calib_level</th><th>filters</th></tr></thead>\n",
       "<thead><tr><th>str7</th><th>str3</th><th>str5</th><th>str43</th><th>str32</th><th>str1</th><th>str71</th><th>str9</th><th>str28</th><th>str5</th><th>str1</th><th>str3</th><th>str3</th><th>str1</th><th>str54</th><th>int64</th><th>str7</th><th>str10</th><th>int64</th><th>str1</th></tr></thead>\n",
       "<tr><td>2047496</td><td>PS1</td><td>image</td><td>rings.v3.skycell.1213.046.stk.r</td><td>stack exposure time map</td><td>C</td><td>mast:PS1/product/rings.v3.skycell.1213.046.stk.r.unconv.exp.fits</td><td>AUXILIARY</td><td>--</td><td>STACK</td><td>--</td><td>3PI</td><td>pv3</td><td>--</td><td>rings.v3.skycell.1213.046.stk.r.unconv.exp.fits</td><td>15249600</td><td>2047496</td><td>PUBLIC</td><td>3</td><td>r</td></tr>\n",
       "<tr><td>2047496</td><td>PS1</td><td>image</td><td>rings.v3.skycell.1213.046.stk.r</td><td>stack weighted exposure time map</td><td>C</td><td>mast:PS1/product/rings.v3.skycell.1213.046.stk.r.unconv.expwt.fits</td><td>AUXILIARY</td><td>--</td><td>STACK</td><td>--</td><td>3PI</td><td>pv3</td><td>--</td><td>rings.v3.skycell.1213.046.stk.r.unconv.expwt.fits</td><td>20352960</td><td>2047496</td><td>PUBLIC</td><td>3</td><td>r</td></tr>\n",
       "<tr><td>2047496</td><td>PS1</td><td>image</td><td>rings.v3.skycell.1213.046.stk.r</td><td>stack mask image</td><td>C</td><td>mast:PS1/product/rings.v3.skycell.1213.046.stk.r.unconv.mask.fits</td><td>AUXILIARY</td><td>--</td><td>STACK</td><td>--</td><td>3PI</td><td>pv3</td><td>--</td><td>rings.v3.skycell.1213.046.stk.r.unconv.mask.fits</td><td>947520</td><td>2047496</td><td>PUBLIC</td><td>3</td><td>r</td></tr>\n",
       "<tr><td>2047496</td><td>PS1</td><td>image</td><td>rings.v3.skycell.1213.046.stk.r</td><td>stack input number map</td><td>C</td><td>mast:PS1/product/rings.v3.skycell.1213.046.stk.r.unconv.num.fits</td><td>AUXILIARY</td><td>--</td><td>STACK</td><td>--</td><td>3PI</td><td>pv3</td><td>--</td><td>rings.v3.skycell.1213.046.stk.r.unconv.num.fits</td><td>12741120</td><td>2047496</td><td>PUBLIC</td><td>3</td><td>r</td></tr>\n",
       "<tr><td>2047496</td><td>PS1</td><td>image</td><td>rings.v3.skycell.1213.046.stk.r</td><td>stack variance image</td><td>C</td><td>mast:PS1/product/rings.v3.skycell.1213.046.stk.r.unconv.wt.fits</td><td>AUXILIARY</td><td>--</td><td>STACK</td><td>--</td><td>3PI</td><td>pv3</td><td>--</td><td>rings.v3.skycell.1213.046.stk.r.unconv.wt.fits</td><td>57611520</td><td>2047496</td><td>PUBLIC</td><td>3</td><td>r</td></tr>\n",
       "<tr><td>2047496</td><td>PS1</td><td>image</td><td>rings.v3.skycell.1213.046.stk.r</td><td>stack data image</td><td>C</td><td>mast:PS1/product/rings.v3.skycell.1213.046.stk.r.unconv.fits</td><td>SCIENCE</td><td>Minimum Recommended Products</td><td>STACK</td><td>--</td><td>3PI</td><td>pv3</td><td>--</td><td>rings.v3.skycell.1213.046.stk.r.unconv.fits</td><td>59837760</td><td>2047496</td><td>PUBLIC</td><td>3</td><td>r</td></tr>\n",
       "</table></div>"
      ],
      "text/plain": [
       "<Table masked=True length=6>\n",
       " obsID  obs_collection dataproduct_type ... dataRights calib_level filters\n",
       "  str7       str3            str5       ...   str10       int64      str1 \n",
       "------- -------------- ---------------- ... ---------- ----------- -------\n",
       "2047496            PS1            image ...     PUBLIC           3       r\n",
       "2047496            PS1            image ...     PUBLIC           3       r\n",
       "2047496            PS1            image ...     PUBLIC           3       r\n",
       "2047496            PS1            image ...     PUBLIC           3       r\n",
       "2047496            PS1            image ...     PUBLIC           3       r\n",
       "2047496            PS1            image ...     PUBLIC           3       r"
      ]
     },
     "execution_count": 17,
     "metadata": {},
     "output_type": "execute_result"
    }
   ],
   "source": [
    "# Filter data products to get only FITS files with public access (\"PUBLIC\")\n",
    "filtered = Observations.filter_products(prods, \n",
    "                                        extension=\"fits\", \n",
    "                                        dataRights=\"PUBLIC\")\n",
    "filtered"
   ]
  },
  {
   "cell_type": "markdown",
   "metadata": {},
   "source": [
    "Excellent job, agent! **Your clues are hidden in the second and final columns of your filtered product results. You should collect four different letters.**\n",
    "\n",
    "HINT: Not all of the characters in the second column are letters. Think outside the box! What letter does the character look like?\n",
    "\n",
    "If you finish this challenge early, feel free to experiment a bit more with the `astroquery.mast` module and your queries! See if you can locate any interesting datasets or data that would be relevant to your research. You can also visit our [MAST Notebooks GitHub page](https://spacetelescope.github.io/mast_notebooks/notebooks/multi_mission/astroquery.html) for more examples and inspiration."
   ]
  },
  {
   "cell_type": "markdown",
   "metadata": {},
   "source": [
    "## Additional Resources\n",
    "\n",
    "- [`astroquery.mast` Documentation](https://astroquery.readthedocs.io/en/latest/mast/mast.html)\n",
    "- [MAST Portal API](https://mast.stsci.edu/api/v0/)\n",
    "- [MAST Portal UI](https://mast.stsci.edu/portal/Mashup/Clients/Mast/Portal.html)\n",
    "\n",
    "## About this Notebook:\n",
    "If you have comments or questions on this notebook, please open a [GitHub issue on tike_content](https://github.com/spacetelescope/tike_content/issues/new) contact us through the [Archive Help Desk e-mail](mailto:archive@stsci.edu).\n",
    "\n",
    "**Author:** Sam Bianco\n",
    "\n",
    "**Last Updated:** September 2025\n",
    "\n",
    "---\n",
    "\n",
    "[Top of Page](#top)\n",
    "\n",
    "<img style=float:right; src=\"https://raw.githubusercontent.com/spacetelescope/notebooks/master/assets/stsci_pri_combo_mark_horizonal_white_bkgd.png\" alt=\"Space Telescope Logo\" width=\"200px\"/>"
   ]
  }
 ],
 "metadata": {
  "kernelspec": {
   "display_name": "Python 3",
   "language": "python",
   "name": "python3"
  },
  "language_info": {
   "codemirror_mode": {
    "name": "ipython",
    "version": 3
   },
   "file_extension": ".py",
   "mimetype": "text/x-python",
   "name": "python",
   "nbconvert_exporter": "python",
   "pygments_lexer": "ipython3",
   "version": "3.11.9"
  }
 },
 "nbformat": 4,
 "nbformat_minor": 4
}
